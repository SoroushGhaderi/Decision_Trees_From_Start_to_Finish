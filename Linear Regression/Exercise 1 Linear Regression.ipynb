{
 "cells": [
  {
   "cell_type": "markdown",
   "metadata": {},
   "source": [
    "## 1. Simple `numpy` function"
   ]
  },
  {
   "cell_type": "markdown",
   "metadata": {},
   "source": [
    "The first part of this assignment gives you practice with python and numpy syntax and the homework submission process. In the next cell, you will find the outline of a `python` function. Modify it to return a `5 x 5` identity matrix by filling in the following code:\n",
    "```python\n",
    "        A= np.eye(5)\n",
    "```"
   ]
  },
  {
   "cell_type": "code",
   "execution_count": 81,
   "metadata": {},
   "outputs": [],
   "source": [
    "import numpy as np"
   ]
  },
  {
   "cell_type": "code",
   "execution_count": 82,
   "metadata": {},
   "outputs": [
    {
     "name": "stdout",
     "output_type": "stream",
     "text": [
      "[[1. 0. 0. 0. 0.]\n",
      " [0. 1. 0. 0. 0.]\n",
      " [0. 0. 1. 0. 0.]\n",
      " [0. 0. 0. 1. 0.]\n",
      " [0. 0. 0. 0. 1.]]\n"
     ]
    }
   ],
   "source": [
    "print(np.eye(5))"
   ]
  },
  {
   "cell_type": "markdown",
   "metadata": {},
   "source": [
    "## 2 Linear regression with one variable"
   ]
  },
  {
   "cell_type": "markdown",
   "metadata": {},
   "source": [
    "Now you will implement linear regression with one variable to predict profits for a food truck. Suppose you are the CEO of a restaurant franchise and are considering different cities for opening a new outlet. The chain already has trucks in various cities and you have data for profits and populations from the cities. You would like to use this data to help you select which city to expand to next.\\\n",
    "The file `\"Uni_linear.txt\"` contains the dataset for our linear regression problem. The first column is the population of a city (in 10,000s) and the second column is the profit of a food truck in that city (in $10,000s). A negative value for profit indicates a loss.\n",
    "\n",
    "We provide you with the code needed to load this data. The dataset is loaded from the data file into the variables x and y:"
   ]
  },
  {
   "cell_type": "code",
   "execution_count": 83,
   "metadata": {},
   "outputs": [],
   "source": [
    "import pandas as pd"
   ]
  },
  {
   "cell_type": "code",
   "execution_count": 84,
   "metadata": {},
   "outputs": [
    {
     "name": "stdout",
     "output_type": "stream",
     "text": [
      "size of samples: 97\n"
     ]
    }
   ],
   "source": [
    "chain_resturant = pd.read_csv(\"Uni_linear.txt\", names= [\"Population\", \"Profit\"])\n",
    "# type casting from pandas series to numpy array\n",
    "X = np.array(chain_resturant[\"Population\"])\n",
    "y = np.array(chain_resturant[\"Profit\"])\n",
    "# size of dataset\n",
    "number_of_samples = X.size\n",
    "print('size of samples: {}'.format(number_of_samples))"
   ]
  },
  {
   "cell_type": "code",
   "execution_count": 85,
   "metadata": {},
   "outputs": [
    {
     "data": {
      "text/html": [
       "<div>\n",
       "<style scoped>\n",
       "    .dataframe tbody tr th:only-of-type {\n",
       "        vertical-align: middle;\n",
       "    }\n",
       "\n",
       "    .dataframe tbody tr th {\n",
       "        vertical-align: top;\n",
       "    }\n",
       "\n",
       "    .dataframe thead th {\n",
       "        text-align: right;\n",
       "    }\n",
       "</style>\n",
       "<table border=\"1\" class=\"dataframe\">\n",
       "  <thead>\n",
       "    <tr style=\"text-align: right;\">\n",
       "      <th></th>\n",
       "      <th>Population</th>\n",
       "      <th>Profit</th>\n",
       "    </tr>\n",
       "  </thead>\n",
       "  <tbody>\n",
       "    <tr>\n",
       "      <th>0</th>\n",
       "      <td>6.1101</td>\n",
       "      <td>17.5920</td>\n",
       "    </tr>\n",
       "    <tr>\n",
       "      <th>1</th>\n",
       "      <td>5.5277</td>\n",
       "      <td>9.1302</td>\n",
       "    </tr>\n",
       "    <tr>\n",
       "      <th>2</th>\n",
       "      <td>8.5186</td>\n",
       "      <td>13.6620</td>\n",
       "    </tr>\n",
       "    <tr>\n",
       "      <th>3</th>\n",
       "      <td>7.0032</td>\n",
       "      <td>11.8540</td>\n",
       "    </tr>\n",
       "    <tr>\n",
       "      <th>4</th>\n",
       "      <td>5.8598</td>\n",
       "      <td>6.8233</td>\n",
       "    </tr>\n",
       "  </tbody>\n",
       "</table>\n",
       "</div>"
      ],
      "text/plain": [
       "   Population   Profit\n",
       "0      6.1101  17.5920\n",
       "1      5.5277   9.1302\n",
       "2      8.5186  13.6620\n",
       "3      7.0032  11.8540\n",
       "4      5.8598   6.8233"
      ]
     },
     "execution_count": 85,
     "metadata": {},
     "output_type": "execute_result"
    }
   ],
   "source": [
    "chain_resturant.head()"
   ]
  },
  {
   "cell_type": "code",
   "execution_count": 86,
   "metadata": {},
   "outputs": [
    {
     "data": {
      "text/html": [
       "<div>\n",
       "<style scoped>\n",
       "    .dataframe tbody tr th:only-of-type {\n",
       "        vertical-align: middle;\n",
       "    }\n",
       "\n",
       "    .dataframe tbody tr th {\n",
       "        vertical-align: top;\n",
       "    }\n",
       "\n",
       "    .dataframe thead th {\n",
       "        text-align: right;\n",
       "    }\n",
       "</style>\n",
       "<table border=\"1\" class=\"dataframe\">\n",
       "  <thead>\n",
       "    <tr style=\"text-align: right;\">\n",
       "      <th></th>\n",
       "      <th>Population</th>\n",
       "      <th>Profit</th>\n",
       "    </tr>\n",
       "  </thead>\n",
       "  <tbody>\n",
       "    <tr>\n",
       "      <th>count</th>\n",
       "      <td>97.000000</td>\n",
       "      <td>97.000000</td>\n",
       "    </tr>\n",
       "    <tr>\n",
       "      <th>mean</th>\n",
       "      <td>8.159800</td>\n",
       "      <td>5.839135</td>\n",
       "    </tr>\n",
       "    <tr>\n",
       "      <th>std</th>\n",
       "      <td>3.869884</td>\n",
       "      <td>5.510262</td>\n",
       "    </tr>\n",
       "    <tr>\n",
       "      <th>min</th>\n",
       "      <td>5.026900</td>\n",
       "      <td>-2.680700</td>\n",
       "    </tr>\n",
       "    <tr>\n",
       "      <th>25%</th>\n",
       "      <td>5.707700</td>\n",
       "      <td>1.986900</td>\n",
       "    </tr>\n",
       "    <tr>\n",
       "      <th>50%</th>\n",
       "      <td>6.589400</td>\n",
       "      <td>4.562300</td>\n",
       "    </tr>\n",
       "    <tr>\n",
       "      <th>75%</th>\n",
       "      <td>8.578100</td>\n",
       "      <td>7.046700</td>\n",
       "    </tr>\n",
       "    <tr>\n",
       "      <th>max</th>\n",
       "      <td>22.203000</td>\n",
       "      <td>24.147000</td>\n",
       "    </tr>\n",
       "  </tbody>\n",
       "</table>\n",
       "</div>"
      ],
      "text/plain": [
       "       Population     Profit\n",
       "count   97.000000  97.000000\n",
       "mean     8.159800   5.839135\n",
       "std      3.869884   5.510262\n",
       "min      5.026900  -2.680700\n",
       "25%      5.707700   1.986900\n",
       "50%      6.589400   4.562300\n",
       "75%      8.578100   7.046700\n",
       "max     22.203000  24.147000"
      ]
     },
     "execution_count": 86,
     "metadata": {},
     "output_type": "execute_result"
    }
   ],
   "source": [
    "chain_resturant.describe()"
   ]
  },
  {
   "cell_type": "code",
   "execution_count": 87,
   "metadata": {},
   "outputs": [
    {
     "name": "stdout",
     "output_type": "stream",
     "text": [
      "Shape of X is: (97,)\n",
      "Shape of y is: (97,)\n"
     ]
    }
   ],
   "source": [
    "print(f\"Shape of X is: {X.shape}\\nShape of y is: {y.shape}\")"
   ]
  },
  {
   "cell_type": "markdown",
   "metadata": {},
   "source": [
    "## 2.1 Plotting the Data"
   ]
  },
  {
   "cell_type": "code",
   "execution_count": 88,
   "metadata": {},
   "outputs": [],
   "source": [
    "import seaborn as sns\n",
    "import matplotlib.pyplot as plt"
   ]
  },
  {
   "cell_type": "code",
   "execution_count": 89,
   "metadata": {},
   "outputs": [
    {
     "data": {
      "image/png": "[encoded data removed]",
      "text/plain": [
       "<Figure size 864x432 with 1 Axes>"
      ]
     },
     "metadata": {
      "needs_background": "light"
     },
     "output_type": "display_data"
    }
   ],
   "source": [
    "plt.figure(figsize=(12, 6))\n",
    "plt.scatter(chain_resturant[\"Population\"], chain_resturant[\"Profit\"], marker= \"x\")\n",
    "plt.xlabel(\"Population of City in 10,000s\")\n",
    "plt.ylabel(\"Profit in $10,000s\")\n",
    "plt.show()"
   ]
  },
  {
   "cell_type": "markdown",
   "metadata": {},
   "source": [
    "### 2.2 Gradient Descent\n",
    "\n",
    "In this part, you will fit the linear regression parameters $\\theta$ to our dataset using gradient descent.\n",
    "\n",
    "#### 2.2.1 Update Equations\n",
    "\n",
    "The objective of linear regression is to minimize the cost function\n",
    "\n",
    "$$ J(\\theta) = \\frac{1}{2m} \\sum_{i=1}^m \\left( h_{\\theta}(x^{(i)}) - y^{(i)}\\right)^2$$\n",
    "\n",
    "where the hypothesis $h_\\theta(x)$ is given by the linear model\n",
    "$$ h_\\theta(x) = \\theta^Tx = \\theta_0 + \\theta_1 x_1$$\n",
    "\n",
    "Recall that the parameters of your model are the $\\theta_j$ values. These are\n",
    "the values you will adjust to minimize cost $J(\\theta)$. One way to do this is to\n",
    "use the batch gradient descent algorithm. In batch gradient descent, each\n",
    "iteration performs the update\n",
    "\n",
    "$$ \\theta_j = \\theta_j - \\alpha \\frac{1}{m} \\sum_{i=1}^m \\left( h_\\theta(x^{(i)}) - y^{(i)}\\right)x_j^{(i)} \\qquad \\text{simultaneously update } \\theta_j \\text{ for all } j$$\n",
    "\n",
    "With each step of gradient descent, your parameters $\\theta_j$ come closer to the optimal values that will achieve the lowest cost J($\\theta$).\n",
    "\n",
    "\n",
    "### 2.2.2 Implementation\n",
    "\n",
    "We have already set up the data for linear regression. In the following cell, we add another dimension to our data to accommodate the $\\theta_0$ intercept term. Do NOT execute this cell more than once."
   ]
  },
  {
   "cell_type": "code",
   "execution_count": 90,
   "metadata": {},
   "outputs": [
    {
     "data": {
      "text/plain": [
       "97"
      ]
     },
     "execution_count": 90,
     "metadata": {},
     "output_type": "execute_result"
    }
   ],
   "source": [
    "number_of_samples"
   ]
  },
  {
   "cell_type": "code",
   "execution_count": 91,
   "metadata": {},
   "outputs": [
    {
     "data": {
      "text/plain": [
       "array([1., 1., 1., 1., 1., 1., 1., 1., 1., 1., 1., 1., 1., 1., 1., 1., 1.,\n",
       "       1., 1., 1., 1., 1., 1., 1., 1., 1., 1., 1., 1., 1., 1., 1., 1., 1.,\n",
       "       1., 1., 1., 1., 1., 1., 1., 1., 1., 1., 1., 1., 1., 1., 1., 1., 1.,\n",
       "       1., 1., 1., 1., 1., 1., 1., 1., 1., 1., 1., 1., 1., 1., 1., 1., 1.,\n",
       "       1., 1., 1., 1., 1., 1., 1., 1., 1., 1., 1., 1., 1., 1., 1., 1., 1.,\n",
       "       1., 1., 1., 1., 1., 1., 1., 1., 1., 1., 1., 1.])"
      ]
     },
     "execution_count": 91,
     "metadata": {},
     "output_type": "execute_result"
    }
   ],
   "source": [
    "np.ones(number_of_samples)"
   ]
  },
  {
   "cell_type": "code",
   "execution_count": 92,
   "metadata": {},
   "outputs": [
    {
     "name": "stdout",
     "output_type": "stream",
     "text": [
      "Shape of X is: (97, 2)\n"
     ]
    }
   ],
   "source": [
    "# The first axis (axis=0) refers to rows (training examples) \n",
    "# and second axis (axis=1) refers to columns (features).\n",
    "X = np.stack([np.ones(number_of_samples), X], axis=1)\n",
    "print(f\"Shape of X is: {X.shape}\")"
   ]
  },
  {
   "cell_type": "code",
   "execution_count": 93,
   "metadata": {},
   "outputs": [
    {
     "data": {
      "text/plain": [
       "array([[ 1.    ,  6.1101],\n",
       "       [ 1.    ,  5.5277],\n",
       "       [ 1.    ,  8.5186],\n",
       "       [ 1.    ,  7.0032],\n",
       "       [ 1.    ,  5.8598],\n",
       "       [ 1.    ,  8.3829],\n",
       "       [ 1.    ,  7.4764],\n",
       "       [ 1.    ,  8.5781],\n",
       "       [ 1.    ,  6.4862],\n",
       "       [ 1.    ,  5.0546],\n",
       "       [ 1.    ,  5.7107],\n",
       "       [ 1.    , 14.164 ],\n",
       "       [ 1.    ,  5.734 ],\n",
       "       [ 1.    ,  8.4084],\n",
       "       [ 1.    ,  5.6407],\n",
       "       [ 1.    ,  5.3794],\n",
       "       [ 1.    ,  6.3654],\n",
       "       [ 1.    ,  5.1301],\n",
       "       [ 1.    ,  6.4296],\n",
       "       [ 1.    ,  7.0708],\n",
       "       [ 1.    ,  6.1891],\n",
       "       [ 1.    , 20.27  ],\n",
       "       [ 1.    ,  5.4901],\n",
       "       [ 1.    ,  6.3261],\n",
       "       [ 1.    ,  5.5649],\n",
       "       [ 1.    , 18.945 ],\n",
       "       [ 1.    , 12.828 ],\n",
       "       [ 1.    , 10.957 ],\n",
       "       [ 1.    , 13.176 ],\n",
       "       [ 1.    , 22.203 ],\n",
       "       [ 1.    ,  5.2524],\n",
       "       [ 1.    ,  6.5894],\n",
       "       [ 1.    ,  9.2482],\n",
       "       [ 1.    ,  5.8918],\n",
       "       [ 1.    ,  8.2111],\n",
       "       [ 1.    ,  7.9334],\n",
       "       [ 1.    ,  8.0959],\n",
       "       [ 1.    ,  5.6063],\n",
       "       [ 1.    , 12.836 ],\n",
       "       [ 1.    ,  6.3534],\n",
       "       [ 1.    ,  5.4069],\n",
       "       [ 1.    ,  6.8825],\n",
       "       [ 1.    , 11.708 ],\n",
       "       [ 1.    ,  5.7737],\n",
       "       [ 1.    ,  7.8247],\n",
       "       [ 1.    ,  7.0931],\n",
       "       [ 1.    ,  5.0702],\n",
       "       [ 1.    ,  5.8014],\n",
       "       [ 1.    , 11.7   ],\n",
       "       [ 1.    ,  5.5416],\n",
       "       [ 1.    ,  7.5402],\n",
       "       [ 1.    ,  5.3077],\n",
       "       [ 1.    ,  7.4239],\n",
       "       [ 1.    ,  7.6031],\n",
       "       [ 1.    ,  6.3328],\n",
       "       [ 1.    ,  6.3589],\n",
       "       [ 1.    ,  6.2742],\n",
       "       [ 1.    ,  5.6397],\n",
       "       [ 1.    ,  9.3102],\n",
       "       [ 1.    ,  9.4536],\n",
       "       [ 1.    ,  8.8254],\n",
       "       [ 1.    ,  5.1793],\n",
       "       [ 1.    , 21.279 ],\n",
       "       [ 1.    , 14.908 ],\n",
       "       [ 1.    , 18.959 ],\n",
       "       [ 1.    ,  7.2182],\n",
       "       [ 1.    ,  8.2951],\n",
       "       [ 1.    , 10.236 ],\n",
       "       [ 1.    ,  5.4994],\n",
       "       [ 1.    , 20.341 ],\n",
       "       [ 1.    , 10.136 ],\n",
       "       [ 1.    ,  7.3345],\n",
       "       [ 1.    ,  6.0062],\n",
       "       [ 1.    ,  7.2259],\n",
       "       [ 1.    ,  5.0269],\n",
       "       [ 1.    ,  6.5479],\n",
       "       [ 1.    ,  7.5386],\n",
       "       [ 1.    ,  5.0365],\n",
       "       [ 1.    , 10.274 ],\n",
       "       [ 1.    ,  5.1077],\n",
       "       [ 1.    ,  5.7292],\n",
       "       [ 1.    ,  5.1884],\n",
       "       [ 1.    ,  6.3557],\n",
       "       [ 1.    ,  9.7687],\n",
       "       [ 1.    ,  6.5159],\n",
       "       [ 1.    ,  8.5172],\n",
       "       [ 1.    ,  9.1802],\n",
       "       [ 1.    ,  6.002 ],\n",
       "       [ 1.    ,  5.5204],\n",
       "       [ 1.    ,  5.0594],\n",
       "       [ 1.    ,  5.7077],\n",
       "       [ 1.    ,  7.6366],\n",
       "       [ 1.    ,  5.8707],\n",
       "       [ 1.    ,  5.3054],\n",
       "       [ 1.    ,  8.2934],\n",
       "       [ 1.    , 13.394 ],\n",
       "       [ 1.    ,  5.4369]])"
      ]
     },
     "execution_count": 93,
     "metadata": {},
     "output_type": "execute_result"
    }
   ],
   "source": [
    "X"
   ]
  },
  {
   "cell_type": "markdown",
   "metadata": {},
   "source": [
    "## 2.2.3 Computing the cost $J(\\theta)$\n",
    "\n",
    "As you perform gradient descent to learn minimize the cost function $J(\\theta)$, it is helpful to monitor the convergence by computing the cost. In this section, you will implement a function to calculate $J(\\theta)$ so you can check the convergence of your gradient descent implementation. \n",
    "\n",
    "Your next task is to complete the code for the function `cost_function` which computes $J(\\theta)$. As you are doing this, remember that the variables $X$ and $y$ are not scalar values. $X$ is a matrix whose rows represent the examples from the training set and $y$ is a vector whose each elemennt represent the value at a given row of $X$."
   ]
  },
  {
   "cell_type": "code",
   "execution_count": 94,
   "metadata": {},
   "outputs": [],
   "source": [
    "def cost_function(X, y, theta):\n",
    "    \"\"\"\n",
    "    Compute cost for linear regression with multiple variables.\n",
    "    Computes the cost of using theta as the parameter for linear regression to fit the data points in X and y.\n",
    "    \n",
    "    Parameters\n",
    "    ----------\n",
    "    X : array_like\n",
    "        The dataset of shape (m x n+1).\n",
    "    \n",
    "    y : array_like\n",
    "        A vector of shape (m, ) for the values at a given data point.\n",
    "    \n",
    "    theta : array_like\n",
    "        The linear regression parameters. A vector of shape (n+1, )\n",
    "    \n",
    "    Returns\n",
    "    -------\n",
    "    J : float\n",
    "        The value of the cost function. \n",
    "    \"\"\"\n",
    "    # size of dataset\n",
    "    number_of_samples = y.size\n",
    "    #initialize cost function with zero\n",
    "    J = 0\n",
    "    # hypothesis function\n",
    "    h = np.dot(X, theta)\n",
    "    # computation of cost function \n",
    "    J = (1/(2 * number_of_samples)) * np.sum(np.square(np.dot(X, theta) - y))\n",
    "    return J"
   ]
  },
  {
   "cell_type": "code",
   "execution_count": 95,
   "metadata": {},
   "outputs": [
    {
     "name": "stdout",
     "output_type": "stream",
     "text": [
      "Cost computed: 32.07 \n",
      "with theta [0.0, 0.0]\n",
      "Cost computed: 100.16 \n",
      "with theta [3.0, 2.0]\n"
     ]
    }
   ],
   "source": [
    "J = cost_function(X, y, theta= np.array([0.0, 0.0]))\n",
    "print(\"Cost computed: {:.2f} \\nwith theta [0.0, 0.0]\".format(J))\n",
    "J = cost_function(X, y, theta= np.array([3.0, 2.0]))\n",
    "print(\"Cost computed: {:.2f} \\nwith theta [3.0, 2.0]\".format(J))"
   ]
  },
  {
   "cell_type": "markdown",
   "metadata": {},
   "source": [
    "#### 2.2.4 Gradient descent\n",
    "\n",
    "Next, you will complete a function which implements gradient descent.\\\n",
    "As you program, make sure you understand what you are trying to optimize and what is being updated. Keep in mind that the cost $J(\\theta)$ is parameterized by the vector $\\theta$, not $X$ and $y$. That is, we minimize the value of $J(\\theta)$ by changing the values of the vector $\\theta$, not by changing $X$ or $y$. A good way to verify that gradient descent is working correctly is to look at the value of $J(\\theta)$ and check that it is decreasing with each step. \n",
    "\n",
    "The starter code for the function `gradient_descent` calls `cost_function` on every iteration and saves the cost to a `python` list. Assuming you have implemented gradient descent and `cost_function` correctly, your value of $J(\\theta)$ should never increase, and should converge to a steady value by the end of the algorithm.\n"
   ]
  },
  {
   "cell_type": "code",
   "execution_count": 96,
   "metadata": {},
   "outputs": [],
   "source": [
    "def gradient_descent(X, y, theta, learning_rate, iteration):\n",
    "    \"\"\"\n",
    "    Performs gradient descent to learn theta.\n",
    "    Updates theta by taking num_iters gradient steps with learning rate alpha.\n",
    "        \n",
    "    Parameters\n",
    "    ----------\n",
    "    X : array_like\n",
    "        The dataset of shape (m x n+1).\n",
    "    \n",
    "    y : array_like\n",
    "        A vector of shape (m, ) for the values at a given data point.\n",
    "    \n",
    "    theta : array_like\n",
    "        The linear regression parameters. A vector of shape (n+1, )\n",
    "    \n",
    "    learning_rate : float\n",
    "        The learning rate for gradient descent. \n",
    "    \n",
    "    iteration : int\n",
    "        The number of iterations to run gradient descent. \n",
    "    \n",
    "    Returns\n",
    "    -------\n",
    "    theta : array_like\n",
    "        The learned linear regression parameters. A vector of shape (n+1, ).\n",
    "    \n",
    "    J_history : list\n",
    "        A python list for the values of the cost function after each iteration.\n",
    "        \n",
    "    theta_history : list\n",
    "        A python list for the values of theta per each iteration and store them in a list\n",
    "    \n",
    "    \"\"\"\n",
    "    # number of elements or trainting examples\n",
    "    number_of_samples = len(y)\n",
    "    # make a copy of theta to avoid changing original array\n",
    "    theta = theta.copy()\n",
    "    J_history = []\n",
    "    theta_history = []\n",
    "    # loop through iterations\n",
    "    for item in range(iteration):\n",
    "        theta = theta - (learning_rate/number_of_samples) * (np.dot(X, theta) - y).dot(X)\n",
    "        theta_history.append(theta)\n",
    "        J_history.append(cost_function(X, y, theta))\n",
    "    return theta, J_history, theta_history"
   ]
  },
  {
   "cell_type": "code",
   "execution_count": 97,
   "metadata": {},
   "outputs": [],
   "source": [
    "# initial theta for starting cost_function and gradient_descent that is theta= [0,0]\n",
    "theta = np.array([0,50])\n",
    "# set learning_rate(alpha in original formula) and iteration(number of running algorithm)\n",
    "learning_rate = .02\n",
    "iteration = 1500\n",
    "# running algorithm and store them variable and lists\n",
    "theta, cost_function_history, theta_history = gradient_descent(X, y, theta, learning_rate, iteration)"
   ]
  },
  {
   "cell_type": "code",
   "execution_count": 98,
   "metadata": {},
   "outputs": [
    {
     "data": {
      "text/plain": [
       "[array([ -8.0430173 , -30.09736583]),\n",
       " array([-2.85360454, 21.52268436]),\n",
       " array([ -6.19216574, -11.74566914]),\n",
       " array([-4.03469351,  9.69432012]),\n",
       " array([-5.4192912 , -4.12377466]),\n",
       " array([-4.52113915,  4.78103931]),\n",
       " array([-5.09418015, -0.95846088]),\n",
       " array([-4.71909687,  2.73991584]),\n",
       " array([-4.95507553,  0.35583152]),\n",
       " array([-4.7972616 ,  1.89173525]),\n",
       " array([-4.8932573 ,  0.90131199]),\n",
       " array([-4.82569996,  1.53904201]),\n",
       " array([-4.86356876,  1.12747218]),\n",
       " array([-4.83351363,  1.39215052]),\n",
       " array([-4.84725406,  1.22100678]),\n",
       " array([-4.8327897 ,  1.33074093]),\n",
       " array([-4.8365228,  1.2594587]),\n",
       " array([-4.82854826,  1.30483879]),\n",
       " array([-4.82813907,  1.2750351 ]),\n",
       " array([-4.82287421,  1.29368739]),\n",
       " array([-4.82075864,  1.28111308]),\n",
       " array([-4.81663329,  1.28866548]),\n",
       " array([-4.81382298,  1.28324874]),\n",
       " array([-4.81018488,  1.28619225]),\n",
       " array([-4.80709991,  1.28374977]),\n",
       " array([-4.80367804,  1.28478038]),\n",
       " array([-4.8004928 ,  1.28357464]),\n",
       " array([-4.79717449,  1.28381212]),\n",
       " array([-4.7939613 ,  1.28312143]),\n",
       " array([-4.79069966,  1.28303086]),\n",
       " array([-4.78748847,  1.28255546]),\n",
       " array([-4.78426392,  1.28233   ]),\n",
       " array([-4.78106706,  1.28194537]),\n",
       " array([-4.77787138,  1.28166523]),\n",
       " array([-4.77469389,  1.28131966]),\n",
       " array([-4.77152355,  1.28101815]),\n",
       " array([-4.76836742,  1.28069014]),\n",
       " array([-4.76522088,  1.28038109]),\n",
       " array([-4.76208683,  1.28006169]),\n",
       " array([-4.75896334,  1.27975083]),\n",
       " array([-4.75585159,  1.27943634]),\n",
       " array([-4.75275075,  1.27912604]),\n",
       " array([-4.74966129,  1.27881489]),\n",
       " array([-4.74658284,  1.27850613]),\n",
       " array([-4.74351556,  1.27819766]),\n",
       " array([-4.7404593 ,  1.27789084]),\n",
       " array([-4.73741408,  1.27758478]),\n",
       " array([-4.73437982,  1.27728004]),\n",
       " array([-4.73135652,  1.27697626]),\n",
       " array([-4.72834411,  1.27667367]),\n",
       " array([-4.72534256,  1.2763721 ]),\n",
       " array([-4.72235183,  1.27607167]),\n",
       " array([-4.71937188,  1.27577229]),\n",
       " array([-4.71640268,  1.27547401]),\n",
       " array([-4.71344418,  1.27517679]),\n",
       " array([-4.71049635,  1.27488065]),\n",
       " array([-4.70755914,  1.27458558]),\n",
       " array([-4.70463253,  1.27429157]),\n",
       " array([-4.70171646,  1.27399861]),\n",
       " array([-4.69881091,  1.27370672]),\n",
       " array([-4.69591583,  1.27341588]),\n",
       " array([-4.69303119,  1.27312609]),\n",
       " array([-4.69015695,  1.27283734]),\n",
       " array([-4.68729307,  1.27254963]),\n",
       " array([-4.68443952,  1.27226296]),\n",
       " array([-4.68159625,  1.27197732]),\n",
       " array([-4.67876324,  1.27169272]),\n",
       " array([-4.67594044,  1.27140913]),\n",
       " array([-4.67312781,  1.27112658]),\n",
       " array([-4.67032533,  1.27084504]),\n",
       " array([-4.66753295,  1.27056451]),\n",
       " array([-4.66475063,  1.270285  ]),\n",
       " array([-4.66197835,  1.27000649]),\n",
       " array([-4.65921606,  1.26972899]),\n",
       " array([-4.65646373,  1.26945249]),\n",
       " array([-4.65372132,  1.26917698]),\n",
       " array([-4.6509888 ,  1.26890247]),\n",
       " array([-4.64826613,  1.26862895]),\n",
       " array([-4.64555328,  1.26835641]),\n",
       " array([-4.64285021,  1.26808486]),\n",
       " array([-4.64015688,  1.26781429]),\n",
       " array([-4.63747326,  1.26754469]),\n",
       " array([-4.63479932,  1.26727606]),\n",
       " array([-4.63213501,  1.2670084 ]),\n",
       " array([-4.62948032,  1.26674171]),\n",
       " array([-4.62683519,  1.26647598]),\n",
       " array([-4.6241996 ,  1.26621121]),\n",
       " array([-4.62157351,  1.26594739]),\n",
       " array([-4.61895689,  1.26568452]),\n",
       " array([-4.6163497,  1.2654226]),\n",
       " array([-4.61375191,  1.26516162]),\n",
       " array([-4.61116349,  1.26490159]),\n",
       " array([-4.6085844 ,  1.26464249]),\n",
       " array([-4.6060146 ,  1.26438433]),\n",
       " array([-4.60345407,  1.26412709]),\n",
       " array([-4.60090278,  1.26387079]),\n",
       " array([-4.59836068,  1.26361541]),\n",
       " array([-4.59582774,  1.26336095]),\n",
       " array([-4.59330394,  1.2631074 ]),\n",
       " array([-4.59078924,  1.26285477]),\n",
       " array([-4.5882836 ,  1.26260305]),\n",
       " array([-4.58578699,  1.26235224]),\n",
       " array([-4.58329939,  1.26210234]),\n",
       " array([-4.58082075,  1.26185333]),\n",
       " array([-4.57835105,  1.26160522]),\n",
       " array([-4.57589026,  1.26135801]),\n",
       " array([-4.57343833,  1.26111169]),\n",
       " array([-4.57099525,  1.26086625]),\n",
       " array([-4.56856097,  1.2606217 ]),\n",
       " array([-4.56613547,  1.26037803]),\n",
       " array([-4.56371871,  1.26013524]),\n",
       " array([-4.56131067,  1.25989333]),\n",
       " array([-4.5589113 ,  1.25965229]),\n",
       " array([-4.55652059,  1.25941212]),\n",
       " array([-4.5541385 ,  1.25917281]),\n",
       " array([-4.55176499,  1.25893436]),\n",
       " array([-4.54940005,  1.25869678]),\n",
       " array([-4.54704362,  1.25846005]),\n",
       " array([-4.5446957 ,  1.25822418]),\n",
       " array([-4.54235623,  1.25798915]),\n",
       " array([-4.54002521,  1.25775497]),\n",
       " array([-4.53770258,  1.25752164]),\n",
       " array([-4.53538833,  1.25728915]),\n",
       " array([-4.53308242,  1.2570575 ]),\n",
       " array([-4.53078483,  1.25682668]),\n",
       " array([-4.52849552,  1.25659669]),\n",
       " array([-4.52621446,  1.25636754]),\n",
       " array([-4.52394163,  1.2561392 ]),\n",
       " array([-4.52167699,  1.2559117 ]),\n",
       " array([-4.51942051,  1.25568501]),\n",
       " array([-4.51717217,  1.25545914]),\n",
       " array([-4.51493194,  1.25523408]),\n",
       " array([-4.51269978,  1.25500984]),\n",
       " array([-4.51047567,  1.2547864 ]),\n",
       " array([-4.50825957,  1.25456377]),\n",
       " array([-4.50605147,  1.25434194]),\n",
       " array([-4.50385133,  1.25412092]),\n",
       " array([-4.50165912,  1.25390069]),\n",
       " array([-4.49947481,  1.25368125]),\n",
       " array([-4.49729838,  1.2534626 ]),\n",
       " array([-4.49512979,  1.25324474]),\n",
       " array([-4.49296903,  1.25302767]),\n",
       " array([-4.49081605,  1.25281138]),\n",
       " array([-4.48867083,  1.25259587]),\n",
       " array([-4.48653335,  1.25238114]),\n",
       " array([-4.48440357,  1.25216718]),\n",
       " array([-4.48228148,  1.25195399]),\n",
       " array([-4.48016703,  1.25174157]),\n",
       " array([-4.47806021,  1.25152992]),\n",
       " array([-4.47596098,  1.25131903]),\n",
       " array([-4.47386932,  1.2511089 ]),\n",
       " array([-4.4717852 ,  1.25089953]),\n",
       " array([-4.46970859,  1.25069091]),\n",
       " array([-4.46763947,  1.25048304]),\n",
       " array([-4.46557781,  1.25027593]),\n",
       " array([-4.46352358,  1.25006956]),\n",
       " array([-4.46147676,  1.24986393]),\n",
       " array([-4.45943732,  1.24965905]),\n",
       " array([-4.45740523,  1.2494549 ]),\n",
       " array([-4.45538047,  1.24925149]),\n",
       " array([-4.453363  ,  1.24904882]),\n",
       " array([-4.45135281,  1.24884687]),\n",
       " array([-4.44934987,  1.24864565]),\n",
       " array([-4.44735415,  1.24844516]),\n",
       " array([-4.44536562,  1.24824539]),\n",
       " array([-4.44338426,  1.24804634]),\n",
       " array([-4.44141005,  1.24784801]),\n",
       " array([-4.43944295,  1.2476504 ]),\n",
       " array([-4.43748294,  1.24745349]),\n",
       " array([-4.43553  ,  1.2472573]),\n",
       " array([-4.43358411,  1.24706181]),\n",
       " array([-4.43164522,  1.24686703]),\n",
       " array([-4.42971333,  1.24667295]),\n",
       " array([-4.4277884 ,  1.24647957]),\n",
       " array([-4.42587041,  1.24628689]),\n",
       " array([-4.42395934,  1.2460949 ]),\n",
       " array([-4.42205515,  1.2459036 ]),\n",
       " array([-4.42015783,  1.245713  ]),\n",
       " array([-4.41826735,  1.24552308]),\n",
       " array([-4.41638369,  1.24533384]),\n",
       " array([-4.41450682,  1.24514529]),\n",
       " array([-4.41263671,  1.24495742]),\n",
       " array([-4.41077334,  1.24477022]),\n",
       " array([-4.4089167,  1.2445837]),\n",
       " array([-4.40706674,  1.24439786]),\n",
       " array([-4.40522346,  1.24421268]),\n",
       " array([-4.40338682,  1.24402817]),\n",
       " array([-4.40155681,  1.24384432]),\n",
       " array([-4.39973339,  1.24366114]),\n",
       " array([-4.39791654,  1.24347862]),\n",
       " array([-4.39610625,  1.24329675]),\n",
       " array([-4.39430248,  1.24311555]),\n",
       " array([-4.39250521,  1.24293499]),\n",
       " array([-4.39071443,  1.24275509]),\n",
       " array([-4.3889301 ,  1.24257583]),\n",
       " array([-4.3871522 ,  1.24239722]),\n",
       " array([-4.38538071,  1.24221926]),\n",
       " array([-4.38361561,  1.24204193]),\n",
       " array([-4.38185687,  1.24186525]),\n",
       " array([-4.38010447,  1.2416892 ]),\n",
       " array([-4.37835839,  1.24151379]),\n",
       " array([-4.37661861,  1.24133901]),\n",
       " array([-4.3748851 ,  1.24116486]),\n",
       " array([-4.37315784,  1.24099134]),\n",
       " array([-4.3714368 ,  1.24081844]),\n",
       " array([-4.36972197,  1.24064617]),\n",
       " array([-4.36801332,  1.24047452]),\n",
       " array([-4.36631083,  1.24030348]),\n",
       " array([-4.36461448,  1.24013307]),\n",
       " array([-4.36292425,  1.23996326]),\n",
       " array([-4.36124011,  1.23979407]),\n",
       " array([-4.35956204,  1.23962549]),\n",
       " array([-4.35789002,  1.23945752]),\n",
       " array([-4.35622402,  1.23929015]),\n",
       " array([-4.35456404,  1.23912339]),\n",
       " array([-4.35291004,  1.23895723]),\n",
       " array([-4.351262  ,  1.23879166]),\n",
       " array([-4.3496199,  1.2386267]),\n",
       " array([-4.34798373,  1.23846233]),\n",
       " array([-4.34635345,  1.23829855]),\n",
       " array([-4.34472905,  1.23813536]),\n",
       " array([-4.3431105 ,  1.23797276]),\n",
       " array([-4.34149779,  1.23781074]),\n",
       " array([-4.3398909 ,  1.23764931]),\n",
       " array([-4.3382898 ,  1.23748846]),\n",
       " array([-4.33669447,  1.2373282 ]),\n",
       " array([-4.33510489,  1.23716851]),\n",
       " array([-4.33352104,  1.23700939]),\n",
       " array([-4.33194291,  1.23685085]),\n",
       " array([-4.33037046,  1.23669288]),\n",
       " array([-4.32880368,  1.23653548]),\n",
       " array([-4.32724255,  1.23637865]),\n",
       " array([-4.32568705,  1.23622238]),\n",
       " array([-4.32413715,  1.23606668]),\n",
       " array([-4.32259285,  1.23591154]),\n",
       " array([-4.32105411,  1.23575695]),\n",
       " array([-4.31952092,  1.23560293]),\n",
       " array([-4.31799325,  1.23544946]),\n",
       " array([-4.31647109,  1.23529654]),\n",
       " array([-4.31495443,  1.23514417]),\n",
       " array([-4.31344323,  1.23499236]),\n",
       " array([-4.31193747,  1.23484109]),\n",
       " array([-4.31043715,  1.23469036]),\n",
       " array([-4.30894223,  1.23454018]),\n",
       " array([-4.30745271,  1.23439054]),\n",
       " array([-4.30596855,  1.23424145]),\n",
       " array([-4.30448975,  1.23409288]),\n",
       " array([-4.30301627,  1.23394486]),\n",
       " array([-4.30154811,  1.23379736]),\n",
       " array([-4.30008524,  1.2336504 ]),\n",
       " array([-4.29862765,  1.23350397]),\n",
       " array([-4.29717531,  1.23335807]),\n",
       " array([-4.2957282 ,  1.23321269]),\n",
       " array([-4.29428632,  1.23306784]),\n",
       " array([-4.29284963,  1.23292351]),\n",
       " array([-4.29141812,  1.2327797 ]),\n",
       " array([-4.28999177,  1.2326364 ]),\n",
       " array([-4.28857057,  1.23249363]),\n",
       " array([-4.28715448,  1.23235137]),\n",
       " array([-4.28574351,  1.23220962]),\n",
       " array([-4.28433762,  1.23206838]),\n",
       " array([-4.28293679,  1.23192766]),\n",
       " array([-4.28154102,  1.23178744]),\n",
       " array([-4.28015028,  1.23164772]),\n",
       " array([-4.27876456,  1.23150851]),\n",
       " array([-4.27738383,  1.2313698 ]),\n",
       " array([-4.27600808,  1.23123159]),\n",
       " array([-4.27463729,  1.23109388]),\n",
       " array([-4.27327144,  1.23095667]),\n",
       " array([-4.27191051,  1.23081995]),\n",
       " array([-4.27055449,  1.23068372]),\n",
       " array([-4.26920336,  1.23054798]),\n",
       " array([-4.2678571 ,  1.23041274]),\n",
       " array([-4.26651569,  1.23027798]),\n",
       " array([-4.26517912,  1.2301437 ]),\n",
       " array([-4.26384737,  1.23000992]),\n",
       " array([-4.26252042,  1.22987661]),\n",
       " array([-4.26119826,  1.22974378]),\n",
       " array([-4.25988086,  1.22961144]),\n",
       " array([-4.25856821,  1.22947957]),\n",
       " array([-4.25726029,  1.22934817]),\n",
       " array([-4.25595709,  1.22921725]),\n",
       " array([-4.25465858,  1.2290868 ]),\n",
       " array([-4.25336476,  1.22895682]),\n",
       " array([-4.2520756 ,  1.22882731]),\n",
       " array([-4.25079109,  1.22869827]),\n",
       " array([-4.24951121,  1.22856969]),\n",
       " array([-4.24823594,  1.22844158]),\n",
       " array([-4.24696528,  1.22831393]),\n",
       " array([-4.24569919,  1.22818673]),\n",
       " array([-4.24443767,  1.22806   ]),\n",
       " array([-4.24318069,  1.22793372]),\n",
       " array([-4.24192825,  1.2278079 ]),\n",
       " array([-4.24068032,  1.22768253]),\n",
       " array([-4.23943689,  1.22755762]),\n",
       " array([-4.23819795,  1.22743315]),\n",
       " array([-4.23696347,  1.22730914]),\n",
       " array([-4.23573344,  1.22718557]),\n",
       " array([-4.23450784,  1.22706244]),\n",
       " array([-4.23328667,  1.22693976]),\n",
       " array([-4.2320699 ,  1.22681752]),\n",
       " array([-4.23085751,  1.22669573]),\n",
       " array([-4.22964949,  1.22657437]),\n",
       " array([-4.22844583,  1.22645345]),\n",
       " array([-4.22724651,  1.22633296]),\n",
       " array([-4.22605152,  1.22621291]),\n",
       " array([-4.22486083,  1.22609329]),\n",
       " array([-4.22367443,  1.22597411]),\n",
       " array([-4.22249231,  1.22585535]),\n",
       " array([-4.22131445,  1.22573702]),\n",
       " array([-4.22014084,  1.22561912]),\n",
       " array([-4.21897146,  1.22550164]),\n",
       " array([-4.2178063 ,  1.22538459]),\n",
       " array([-4.21664534,  1.22526796]),\n",
       " array([-4.21548856,  1.22515175]),\n",
       " array([-4.21433595,  1.22503596]),\n",
       " array([-4.2131875 ,  1.22492058]),\n",
       " array([-4.21204319,  1.22480562]),\n",
       " array([-4.210903  ,  1.22469108]),\n",
       " array([-4.20976693,  1.22457695]),\n",
       " array([-4.20863495,  1.22446323]),\n",
       " array([-4.20750705,  1.22434992]),\n",
       " array([-4.20638321,  1.22423702]),\n",
       " array([-4.20526343,  1.22412452]),\n",
       " array([-4.20414769,  1.22401244]),\n",
       " array([-4.20303597,  1.22390075]),\n",
       " array([-4.20192825,  1.22378947]),\n",
       " array([-4.20082453,  1.22367859]),\n",
       " array([-4.19972479,  1.22356811]),\n",
       " array([-4.19862902,  1.22345802]),\n",
       " array([-4.19753719,  1.22334834]),\n",
       " array([-4.1964493 ,  1.22323905]),\n",
       " array([-4.19536534,  1.22313015]),\n",
       " array([-4.19428528,  1.22302165]),\n",
       " array([-4.19320911,  1.22291354]),\n",
       " array([-4.19213682,  1.22280581]),\n",
       " array([-4.1910684 ,  1.22269848]),\n",
       " array([-4.19000384,  1.22259153]),\n",
       " array([-4.18894311,  1.22248497]),\n",
       " array([-4.1878862 ,  1.22237879]),\n",
       " array([-4.1868331,  1.222273 ]),\n",
       " array([-4.18578381,  1.22216758]),\n",
       " array([-4.18473829,  1.22206255]),\n",
       " array([-4.18369654,  1.2219579 ]),\n",
       " array([-4.18265855,  1.22185362]),\n",
       " array([-4.1816243 ,  1.22174972]),\n",
       " array([-4.18059378,  1.22164619]),\n",
       " array([-4.17956698,  1.22154304]),\n",
       " array([-4.17854387,  1.22144025]),\n",
       " array([-4.17752446,  1.22133784]),\n",
       " array([-4.17650872,  1.2212358 ]),\n",
       " array([-4.17549664,  1.22113413]),\n",
       " array([-4.17448821,  1.22103282]),\n",
       " array([-4.17348342,  1.22093188]),\n",
       " array([-4.17248225,  1.2208313 ]),\n",
       " array([-4.17148469,  1.22073108]),\n",
       " array([-4.17049072,  1.22063123]),\n",
       " array([-4.16950034,  1.22053173]),\n",
       " array([-4.16851353,  1.2204326 ]),\n",
       " array([-4.16753028,  1.22033382]),\n",
       " array([-4.16655057,  1.2202354 ]),\n",
       " array([-4.16557439,  1.22013733]),\n",
       " array([-4.16460173,  1.22003961]),\n",
       " array([-4.16363258,  1.21994225]),\n",
       " array([-4.16266693,  1.21984524]),\n",
       " array([-4.16170475,  1.21974858]),\n",
       " array([-4.16074604,  1.21965227]),\n",
       " array([-4.15979079,  1.2195563 ]),\n",
       " array([-4.15883899,  1.21946068]),\n",
       " array([-4.15789061,  1.21936541]),\n",
       " array([-4.15694566,  1.21927048]),\n",
       " array([-4.15600411,  1.21917589]),\n",
       " array([-4.15506595,  1.21908164]),\n",
       " array([-4.15413118,  1.21898773]),\n",
       " array([-4.15319978,  1.21889416]),\n",
       " array([-4.15227173,  1.21880093]),\n",
       " array([-4.15134703,  1.21870804]),\n",
       " array([-4.15042567,  1.21861548]),\n",
       " array([-4.14950763,  1.21852325]),\n",
       " array([-4.14859289,  1.21843135]),\n",
       " array([-4.14768146,  1.21833979]),\n",
       " array([-4.14677331,  1.21824856]),\n",
       " array([-4.14586843,  1.21815765]),\n",
       " array([-4.14496682,  1.21806707]),\n",
       " array([-4.14406846,  1.21797682]),\n",
       " array([-4.14317333,  1.2178869 ]),\n",
       " array([-4.14228143,  1.2177973 ]),\n",
       " array([-4.14139275,  1.21770802]),\n",
       " array([-4.14050727,  1.21761907]),\n",
       " array([-4.13962499,  1.21753043]),\n",
       " array([-4.13874588,  1.21744211]),\n",
       " array([-4.13786995,  1.21735412]),\n",
       " array([-4.13699717,  1.21726644]),\n",
       " array([-4.13612754,  1.21717907]),\n",
       " array([-4.13526104,  1.21709202]),\n",
       " array([-4.13439767,  1.21700529]),\n",
       " array([-4.13353741,  1.21691887]),\n",
       " array([-4.13268025,  1.21683276]),\n",
       " array([-4.13182619,  1.21674696]),\n",
       " array([-4.1309752 ,  1.21666146]),\n",
       " array([-4.13012728,  1.21657628]),\n",
       " array([-4.12928241,  1.21649141]),\n",
       " array([-4.1284406 ,  1.21640684]),\n",
       " array([-4.12760181,  1.21632257]),\n",
       " array([-4.12676605,  1.21623861]),\n",
       " array([-4.12593331,  1.21615495]),\n",
       " array([-4.12510357,  1.2160716 ]),\n",
       " array([-4.12427681,  1.21598854]),\n",
       " array([-4.12345304,  1.21590578]),\n",
       " array([-4.12263224,  1.21582332]),\n",
       " array([-4.1218144 ,  1.21574116]),\n",
       " array([-4.1209995,  1.2156593]),\n",
       " array([-4.12018755,  1.21557773]),\n",
       " array([-4.11937852,  1.21549645]),\n",
       " array([-4.11857241,  1.21541547]),\n",
       " array([-4.1177692 ,  1.21533478]),\n",
       " array([-4.11696889,  1.21525438]),\n",
       " array([-4.11617146,  1.21517427]),\n",
       " array([-4.11537691,  1.21509445]),\n",
       " array([-4.11458523,  1.21501491]),\n",
       " array([-4.1137964 ,  1.21493567]),\n",
       " array([-4.11301041,  1.21485671]),\n",
       " array([-4.11222725,  1.21477803]),\n",
       " array([-4.11144692,  1.21469964]),\n",
       " array([-4.11066941,  1.21462153]),\n",
       " array([-4.10989469,  1.2145437 ]),\n",
       " array([-4.10912277,  1.21446615]),\n",
       " array([-4.10835363,  1.21438888]),\n",
       " array([-4.10758727,  1.21431189]),\n",
       " array([-4.10682366,  1.21423518]),\n",
       " array([-4.10606281,  1.21415875]),\n",
       " array([-4.10530471,  1.21408259]),\n",
       " array([-4.10454933,  1.2140067 ]),\n",
       " array([-4.10379668,  1.21393109]),\n",
       " array([-4.10304675,  1.21385575]),\n",
       " array([-4.10229951,  1.21378068]),\n",
       " array([-4.10155497,  1.21370588]),\n",
       " array([-4.10081312,  1.21363136]),\n",
       " array([-4.10007394,  1.2135571 ]),\n",
       " array([-4.09933742,  1.21348311]),\n",
       " array([-4.09860356,  1.21340938]),\n",
       " array([-4.09787235,  1.21333592]),\n",
       " array([-4.09714377,  1.21326273]),\n",
       " array([-4.09641782,  1.2131898 ]),\n",
       " array([-4.09569448,  1.21311713]),\n",
       " array([-4.09497376,  1.21304473]),\n",
       " array([-4.09425563,  1.21297259]),\n",
       " array([-4.09354009,  1.2129007 ]),\n",
       " array([-4.09282713,  1.21282908]),\n",
       " array([-4.09211674,  1.21275771]),\n",
       " array([-4.09140891,  1.2126866 ]),\n",
       " array([-4.09070363,  1.21261575]),\n",
       " array([-4.0900009 ,  1.21254515]),\n",
       " array([-4.0893007 ,  1.21247481]),\n",
       " array([-4.08860302,  1.21240472]),\n",
       " array([-4.08790786,  1.21233488]),\n",
       " array([-4.08721521,  1.2122653 ]),\n",
       " array([-4.08652505,  1.21219597]),\n",
       " array([-4.08583738,  1.21212688]),\n",
       " array([-4.08515219,  1.21205805]),\n",
       " array([-4.08446947,  1.21198946]),\n",
       " array([-4.08378921,  1.21192112]),\n",
       " array([-4.08311141,  1.21185303]),\n",
       " array([-4.08243604,  1.21178518]),\n",
       " array([-4.08176312,  1.21171758]),\n",
       " array([-4.08109262,  1.21165022]),\n",
       " array([-4.08042453,  1.2115831 ]),\n",
       " array([-4.07975886,  1.21151623]),\n",
       " array([-4.07909558,  1.21144959]),\n",
       " array([-4.07843469,  1.2113832 ]),\n",
       " array([-4.07777619,  1.21131705]),\n",
       " array([-4.07712006,  1.21125113]),\n",
       " array([-4.0764663 ,  1.21118545]),\n",
       " array([-4.0758149 ,  1.21112001]),\n",
       " array([-4.07516584,  1.21105481]),\n",
       " array([-4.07451912,  1.21098984]),\n",
       " array([-4.07387474,  1.2109251 ]),\n",
       " array([-4.07323267,  1.2108606 ]),\n",
       " array([-4.07259293,  1.21079633]),\n",
       " array([-4.07195549,  1.21073229]),\n",
       " array([-4.07132034,  1.21066849]),\n",
       " array([-4.07068749,  1.21060491]),\n",
       " array([-4.07005692,  1.21054156]),\n",
       " array([-4.06942862,  1.21047844]),\n",
       " array([-4.06880258,  1.21041555]),\n",
       " array([-4.06817881,  1.21035289]),\n",
       " array([-4.06755728,  1.21029045]),\n",
       " array([-4.06693799,  1.21022823]),\n",
       " array([-4.06632094,  1.21016624]),\n",
       " array([-4.06570611,  1.21010448]),\n",
       " array([-4.0650935 ,  1.21004293]),\n",
       " array([-4.06448309,  1.20998161]),\n",
       " array([-4.06387489,  1.20992051]),\n",
       " array([-4.06326888,  1.20985963]),\n",
       " array([-4.06266505,  1.20979897]),\n",
       " array([-4.0620634 ,  1.20973853]),\n",
       " array([-4.06146392,  1.2096783 ]),\n",
       " array([-4.0608666,  1.2096183]),\n",
       " array([-4.06027144,  1.2095585 ]),\n",
       " array([-4.05967842,  1.20949893]),\n",
       " array([-4.05908753,  1.20943957]),\n",
       " array([-4.05849878,  1.20938042]),\n",
       " array([-4.05791215,  1.20932149]),\n",
       " array([-4.05732764,  1.20926277]),\n",
       " array([-4.05674523,  1.20920426]),\n",
       " array([-4.05616493,  1.20914596]),\n",
       " array([-4.05558671,  1.20908787]),\n",
       " array([-4.05501058,  1.20902999]),\n",
       " array([-4.05443653,  1.20897232]),\n",
       " array([-4.05386454,  1.20891486]),\n",
       " array([-4.05329462,  1.20885761]),\n",
       " array([-4.05272675,  1.20880056]),\n",
       " array([-4.05216093,  1.20874372]),\n",
       " array([-4.05159715,  1.20868708]),\n",
       " array([-4.0510354 ,  1.20863065]),\n",
       " array([-4.05047568,  1.20857442]),\n",
       " array([-4.04991798,  1.20851839]),\n",
       " array([-4.04936228,  1.20846256]),\n",
       " array([-4.04880859,  1.20840694]),\n",
       " array([-4.0482569 ,  1.20835151]),\n",
       " array([-4.04770719,  1.20829629]),\n",
       " array([-4.04715947,  1.20824127]),\n",
       " array([-4.04661372,  1.20818644]),\n",
       " array([-4.04606994,  1.20813181]),\n",
       " array([-4.04552812,  1.20807738]),\n",
       " array([-4.04498825,  1.20802314]),\n",
       " array([-4.04445033,  1.2079691 ]),\n",
       " array([-4.04391435,  1.20791526]),\n",
       " array([-4.0433803 ,  1.20786161]),\n",
       " array([-4.04284818,  1.20780815]),\n",
       " array([-4.04231797,  1.20775488]),\n",
       " array([-4.04178968,  1.20770181]),\n",
       " array([-4.04126329,  1.20764893]),\n",
       " array([-4.04073879,  1.20759624]),\n",
       " array([-4.04021619,  1.20754374]),\n",
       " array([-4.03969548,  1.20749143]),\n",
       " array([-4.03917664,  1.2074393 ]),\n",
       " array([-4.03865967,  1.20738737]),\n",
       " array([-4.03814456,  1.20733562]),\n",
       " array([-4.03763131,  1.20728406]),\n",
       " array([-4.03711992,  1.20723268]),\n",
       " array([-4.03661036,  1.20718149]),\n",
       " array([-4.03610264,  1.20713049]),\n",
       " array([-4.03559676,  1.20707967]),\n",
       " array([-4.03509269,  1.20702903]),\n",
       " array([-4.03459045,  1.20697857]),\n",
       " array([-4.03409001,  1.2069283 ]),\n",
       " array([-4.03359138,  1.2068782 ]),\n",
       " array([-4.03309455,  1.20682829]),\n",
       " array([-4.03259951,  1.20677856]),\n",
       " array([-4.03210625,  1.20672901]),\n",
       " array([-4.03161477,  1.20667963]),\n",
       " array([-4.03112506,  1.20663044]),\n",
       " array([-4.03063712,  1.20658142]),\n",
       " array([-4.03015094,  1.20653257]),\n",
       " array([-4.02966651,  1.20648391]),\n",
       " array([-4.02918383,  1.20643542]),\n",
       " array([-4.02870288,  1.2063871 ]),\n",
       " array([-4.02822367,  1.20633896]),\n",
       " array([-4.02774619,  1.20629099]),\n",
       " array([-4.02727043,  1.2062432 ]),\n",
       " array([-4.02679639,  1.20619557]),\n",
       " array([-4.02632405,  1.20614812]),\n",
       " array([-4.02585342,  1.20610084]),\n",
       " array([-4.02538448,  1.20605373]),\n",
       " array([-4.02491723,  1.20600679]),\n",
       " array([-4.02445167,  1.20596002]),\n",
       " array([-4.02398779,  1.20591342]),\n",
       " array([-4.02352558,  1.20586699]),\n",
       " array([-4.02306504,  1.20582072]),\n",
       " array([-4.02260615,  1.20577462]),\n",
       " array([-4.02214892,  1.20572868]),\n",
       " array([-4.02169334,  1.20568292]),\n",
       " array([-4.0212394 ,  1.20563731]),\n",
       " array([-4.0207871 ,  1.20559188]),\n",
       " array([-4.02033643,  1.2055466 ]),\n",
       " array([-4.01988738,  1.20550149]),\n",
       " array([-4.01943996,  1.20545654]),\n",
       " array([-4.01899414,  1.20541175]),\n",
       " array([-4.01854993,  1.20536713]),\n",
       " array([-4.01810733,  1.20532266]),\n",
       " array([-4.01766632,  1.20527836]),\n",
       " array([-4.0172269 ,  1.20523421]),\n",
       " array([-4.01678906,  1.20519023]),\n",
       " array([-4.0163528,  1.2051464]),\n",
       " array([-4.01591812,  1.20510273]),\n",
       " array([-4.015485  ,  1.20505922]),\n",
       " array([-4.01505344,  1.20501587]),\n",
       " array([-4.01462344,  1.20497267]),\n",
       " array([-4.01419499,  1.20492963]),\n",
       " array([-4.01376809,  1.20488674]),\n",
       " array([-4.01334272,  1.20484401]),\n",
       " array([-4.01291889,  1.20480143]),\n",
       " array([-4.01249658,  1.204759  ]),\n",
       " array([-4.0120758 ,  1.20471673]),\n",
       " array([-4.01165653,  1.20467461]),\n",
       " array([-4.01123878,  1.20463264]),\n",
       " array([-4.01082253,  1.20459083]),\n",
       " array([-4.01040779,  1.20454916]),\n",
       " array([-4.00999453,  1.20450764]),\n",
       " array([-4.00958277,  1.20446628]),\n",
       " array([-4.00917249,  1.20442506]),\n",
       " array([-4.0087637 ,  1.20438399]),\n",
       " array([-4.00835637,  1.20434307]),\n",
       " array([-4.00795051,  1.2043023 ]),\n",
       " array([-4.00754612,  1.20426168]),\n",
       " array([-4.00714319,  1.2042212 ]),\n",
       " array([-4.0067417 ,  1.20418086]),\n",
       " array([-4.00634167,  1.20414067]),\n",
       " array([-4.00594308,  1.20410063]),\n",
       " array([-4.00554592,  1.20406073]),\n",
       " array([-4.0051502 ,  1.20402098]),\n",
       " array([-4.0047559 ,  1.20398137]),\n",
       " array([-4.00436302,  1.2039419 ]),\n",
       " array([-4.00397156,  1.20390257]),\n",
       " array([-4.00358152,  1.20386339]),\n",
       " array([-4.00319287,  1.20382434]),\n",
       " array([-4.00280563,  1.20378544]),\n",
       " array([-4.00241979,  1.20374668]),\n",
       " array([-4.00203533,  1.20370806]),\n",
       " array([-4.00165227,  1.20366957]),\n",
       " array([-4.00127058,  1.20363123]),\n",
       " array([-4.00089027,  1.20359302]),\n",
       " array([-4.00051133,  1.20355495]),\n",
       " array([-4.00013376,  1.20351702]),\n",
       " array([-3.99975754,  1.20347923]),\n",
       " array([-3.99938269,  1.20344157]),\n",
       " array([-3.99900918,  1.20340405]),\n",
       " array([-3.99863703,  1.20336666]),\n",
       " array([-3.99826621,  1.20332941]),\n",
       " array([-3.99789673,  1.20329229]),\n",
       " array([-3.99752858,  1.2032553 ]),\n",
       " array([-3.99716176,  1.20321845]),\n",
       " array([-3.99679627,  1.20318174]),\n",
       " array([-3.99643209,  1.20314515]),\n",
       " array([-3.99606922,  1.2031087 ]),\n",
       " array([-3.99570766,  1.20307237]),\n",
       " array([-3.99534741,  1.20303618]),\n",
       " array([-3.99498845,  1.20300012]),\n",
       " array([-3.99463079,  1.20296419]),\n",
       " array([-3.99427441,  1.20292839]),\n",
       " array([-3.99391933,  1.20289272]),\n",
       " array([-3.99356552,  1.20285717]),\n",
       " array([-3.99321299,  1.20282176]),\n",
       " array([-3.99286172,  1.20278647]),\n",
       " array([-3.99251173,  1.20275131]),\n",
       " array([-3.992163  ,  1.20271627]),\n",
       " array([-3.99181552,  1.20268137]),\n",
       " array([-3.9914693 ,  1.20264658]),\n",
       " array([-3.99112432,  1.20261193]),\n",
       " array([-3.99078059,  1.2025774 ]),\n",
       " array([-3.9904381 ,  1.20254299]),\n",
       " array([-3.99009684,  1.20250871]),\n",
       " array([-3.98975681,  1.20247455]),\n",
       " array([-3.98941801,  1.20244051]),\n",
       " array([-3.98908043,  1.2024066 ]),\n",
       " array([-3.98874407,  1.20237281]),\n",
       " array([-3.98840892,  1.20233914]),\n",
       " array([-3.98807498,  1.20230559]),\n",
       " array([-3.98774224,  1.20227216]),\n",
       " array([-3.9874107 ,  1.20223885]),\n",
       " array([-3.98708036,  1.20220567]),\n",
       " array([-3.98675121,  1.2021726 ]),\n",
       " array([-3.98642324,  1.20213965]),\n",
       " array([-3.98609646,  1.20210682]),\n",
       " array([-3.98577085,  1.20207411]),\n",
       " array([-3.98544642,  1.20204152]),\n",
       " array([-3.98512316,  1.20200905]),\n",
       " array([-3.98480106,  1.20197669]),\n",
       " array([-3.98448013,  1.20194445]),\n",
       " array([-3.98416035,  1.20191232]),\n",
       " array([-3.98384173,  1.20188031]),\n",
       " array([-3.98352425,  1.20184842]),\n",
       " array([-3.98320792,  1.20181664]),\n",
       " array([-3.98289273,  1.20178497]),\n",
       " array([-3.98257867,  1.20175342]),\n",
       " array([-3.98226575,  1.20172199]),\n",
       " array([-3.98195396,  1.20169066]),\n",
       " array([-3.98164328,  1.20165945]),\n",
       " array([-3.98133373,  1.20162836]),\n",
       " array([-3.9810253 ,  1.20159737]),\n",
       " array([-3.98071798,  1.2015665 ]),\n",
       " array([-3.98041176,  1.20153573]),\n",
       " array([-3.98010665,  1.20150508]),\n",
       " array([-3.97980264,  1.20147454]),\n",
       " array([-3.97949973,  1.20144411]),\n",
       " array([-3.9791979 ,  1.20141379]),\n",
       " array([-3.97889717,  1.20138358]),\n",
       " array([-3.97859752,  1.20135347]),\n",
       " array([-3.97829895,  1.20132348]),\n",
       " array([-3.97800146,  1.20129359]),\n",
       " array([-3.97770504,  1.20126381]),\n",
       " array([-3.97740968,  1.20123414]),\n",
       " array([-3.9771154 ,  1.20120458]),\n",
       " array([-3.97682217,  1.20117512]),\n",
       " array([-3.97653   ,  1.20114577]),\n",
       " array([-3.97623888,  1.20111652]),\n",
       " array([-3.97594882,  1.20108738]),\n",
       " array([-3.9756598 ,  1.20105835]),\n",
       " array([-3.97537182,  1.20102942]),\n",
       " array([-3.97508488,  1.20100059]),\n",
       " array([-3.97479897,  1.20097187]),\n",
       " array([-3.9745141 ,  1.20094325]),\n",
       " array([-3.97423025,  1.20091473]),\n",
       " array([-3.97394742,  1.20088632]),\n",
       " array([-3.97366562,  1.20085801]),\n",
       " array([-3.97338483,  1.2008298 ]),\n",
       " array([-3.97310505,  1.2008017 ]),\n",
       " array([-3.97282628,  1.20077369]),\n",
       " array([-3.97254852,  1.20074579]),\n",
       " array([-3.97227176,  1.20071798]),\n",
       " array([-3.97199599,  1.20069028]),\n",
       " array([-3.97172122,  1.20066268]),\n",
       " array([-3.97144744,  1.20063517]),\n",
       " array([-3.97117465,  1.20060777]),\n",
       " array([-3.97090284,  1.20058046]),\n",
       " array([-3.97063201,  1.20055325]),\n",
       " array([-3.97036216,  1.20052614]),\n",
       " array([-3.97009328,  1.20049913]),\n",
       " array([-3.96982537,  1.20047222]),\n",
       " array([-3.96955842,  1.2004454 ]),\n",
       " array([-3.96929244,  1.20041868]),\n",
       " array([-3.96902742,  1.20039205]),\n",
       " array([-3.96876335,  1.20036553]),\n",
       " array([-3.96850024,  1.20033909]),\n",
       " array([-3.96823807,  1.20031275]),\n",
       " array([-3.96797685,  1.20028651]),\n",
       " array([-3.96771657,  1.20026036]),\n",
       " array([-3.96745722,  1.20023431]),\n",
       " array([-3.96719882,  1.20020835]),\n",
       " array([-3.96694134,  1.20018248]),\n",
       " array([-3.96668479,  1.20015671]),\n",
       " array([-3.96642917,  1.20013103]),\n",
       " array([-3.96617447,  1.20010544]),\n",
       " array([-3.96592069,  1.20007995]),\n",
       " array([-3.96566782,  1.20005455]),\n",
       " array([-3.96541587,  1.20002923]),\n",
       " array([-3.96516482,  1.20000401]),\n",
       " array([-3.96491468,  1.19997888]),\n",
       " array([-3.96466544,  1.19995385]),\n",
       " array([-3.96441709,  1.1999289 ]),\n",
       " array([-3.96416965,  1.19990404]),\n",
       " array([-3.96392309,  1.19987927]),\n",
       " array([-3.96367743,  1.19985459]),\n",
       " array([-3.96343265,  1.19983   ]),\n",
       " array([-3.96318875,  1.1998055 ]),\n",
       " array([-3.96294573,  1.19978108]),\n",
       " array([-3.96270359,  1.19975676]),\n",
       " array([-3.96246232,  1.19973252]),\n",
       " array([-3.96222192,  1.19970837]),\n",
       " array([-3.96198239,  1.1996843 ]),\n",
       " array([-3.96174372,  1.19966033]),\n",
       " array([-3.96150591,  1.19963644]),\n",
       " array([-3.96126896,  1.19961263]),\n",
       " array([-3.96103286,  1.19958891]),\n",
       " array([-3.96079762,  1.19956528]),\n",
       " array([-3.96056322,  1.19954173]),\n",
       " array([-3.96032966,  1.19951827]),\n",
       " array([-3.96009695,  1.19949489]),\n",
       " array([-3.95986508,  1.1994716 ]),\n",
       " array([-3.95963405,  1.19944839]),\n",
       " array([-3.95940384,  1.19942526]),\n",
       " array([-3.95917447,  1.19940222]),\n",
       " array([-3.95894592,  1.19937926]),\n",
       " array([-3.9587182 ,  1.19935638]),\n",
       " array([-3.9584913 ,  1.19933359]),\n",
       " array([-3.95826522,  1.19931087]),\n",
       " array([-3.95803995,  1.19928824]),\n",
       " array([-3.95781549,  1.19926569]),\n",
       " array([-3.95759185,  1.19924323]),\n",
       " array([-3.95736901,  1.19922084]),\n",
       " array([-3.95714697,  1.19919853]),\n",
       " array([-3.95692573,  1.19917631]),\n",
       " array([-3.95670529,  1.19915416]),\n",
       " array([-3.95648565,  1.1991321 ]),\n",
       " array([-3.9562668 ,  1.19911011]),\n",
       " array([-3.95604873,  1.1990882 ]),\n",
       " array([-3.95583146,  1.19906638]),\n",
       " array([-3.95561496,  1.19904463]),\n",
       " array([-3.95539925,  1.19902296]),\n",
       " array([-3.95518431,  1.19900136]),\n",
       " array([-3.95497015,  1.19897985]),\n",
       " array([-3.95475677,  1.19895841]),\n",
       " array([-3.95454415,  1.19893705]),\n",
       " array([-3.95433229,  1.19891577]),\n",
       " array([-3.9541212 ,  1.19889456]),\n",
       " array([-3.95391088,  1.19887343]),\n",
       " array([-3.95370131,  1.19885238]),\n",
       " array([-3.95349249,  1.1988314 ]),\n",
       " array([-3.95328443,  1.1988105 ]),\n",
       " array([-3.95307712,  1.19878967]),\n",
       " array([-3.95287056,  1.19876892]),\n",
       " array([-3.95266474,  1.19874824]),\n",
       " array([-3.95245966,  1.19872764]),\n",
       " array([-3.95225532,  1.19870711]),\n",
       " array([-3.95205172,  1.19868666]),\n",
       " array([-3.95184885,  1.19866628]),\n",
       " array([-3.95164672,  1.19864597]),\n",
       " array([-3.95144531,  1.19862574]),\n",
       " array([-3.95124463,  1.19860558]),\n",
       " array([-3.95104467,  1.19858549]),\n",
       " array([-3.95084543,  1.19856548]),\n",
       " array([-3.95064692,  1.19854553]),\n",
       " array([-3.95044911,  1.19852566]),\n",
       " array([-3.95025202,  1.19850586]),\n",
       " array([-3.95005565,  1.19848613]),\n",
       " array([-3.94985997,  1.19846648]),\n",
       " array([-3.94966501,  1.19844689]),\n",
       " array([-3.94947075,  1.19842737]),\n",
       " array([-3.94927718,  1.19840793]),\n",
       " array([-3.94908432,  1.19838855]),\n",
       " array([-3.94889215,  1.19836925]),\n",
       " array([-3.94870067,  1.19835001]),\n",
       " array([-3.94850989,  1.19833085]),\n",
       " array([-3.94831979,  1.19831175]),\n",
       " array([-3.94813038,  1.19829272]),\n",
       " array([-3.94794165,  1.19827376]),\n",
       " array([-3.9477536 ,  1.19825487]),\n",
       " array([-3.94756623,  1.19823604]),\n",
       " array([-3.94737953,  1.19821729]),\n",
       " array([-3.94719351,  1.1981986 ]),\n",
       " array([-3.94700815,  1.19817998]),\n",
       " array([-3.94682347,  1.19816143]),\n",
       " array([-3.94663945,  1.19814294]),\n",
       " array([-3.9464561 ,  1.19812452]),\n",
       " array([-3.9462734 ,  1.19810617]),\n",
       " array([-3.94609137,  1.19808788]),\n",
       " array([-3.94590999,  1.19806966]),\n",
       " array([-3.94572926,  1.1980515 ]),\n",
       " array([-3.94554919,  1.19803341]),\n",
       " array([-3.94536977,  1.19801539]),\n",
       " array([-3.94519099,  1.19799743]),\n",
       " array([-3.94501286,  1.19797953]),\n",
       " array([-3.94483537,  1.1979617 ]),\n",
       " array([-3.94465851,  1.19794393]),\n",
       " array([-3.9444823 ,  1.19792623]),\n",
       " array([-3.94430672,  1.19790859]),\n",
       " array([-3.94413178,  1.19789102]),\n",
       " array([-3.94395746,  1.1978735 ]),\n",
       " array([-3.94378378,  1.19785606]),\n",
       " array([-3.94361072,  1.19783867]),\n",
       " array([-3.94343828,  1.19782135]),\n",
       " array([-3.94326647,  1.19780409]),\n",
       " array([-3.94309527,  1.19778689]),\n",
       " array([-3.9429247 ,  1.19776975]),\n",
       " array([-3.94275473,  1.19775268]),\n",
       " array([-3.94258538,  1.19773566]),\n",
       " array([-3.94241665,  1.19771871]),\n",
       " array([-3.94224851,  1.19770182]),\n",
       " array([-3.94208099,  1.19768499]),\n",
       " array([-3.94191407,  1.19766822]),\n",
       " array([-3.94174775,  1.19765152]),\n",
       " array([-3.94158203,  1.19763487]),\n",
       " array([-3.94141691,  1.19761828]),\n",
       " array([-3.94125238,  1.19760175]),\n",
       " array([-3.94108845,  1.19758528]),\n",
       " array([-3.94092511,  1.19756887]),\n",
       " array([-3.94076235,  1.19755252]),\n",
       " array([-3.94060019,  1.19753623]),\n",
       " array([-3.9404386,  1.19752  ]),\n",
       " array([-3.9402776 ,  1.19750382]),\n",
       " array([-3.94011718,  1.19748771]),\n",
       " array([-3.93995734,  1.19747165]),\n",
       " array([-3.93979808,  1.19745565]),\n",
       " array([-3.93963939,  1.19743971]),\n",
       " array([-3.93948127,  1.19742382]),\n",
       " array([-3.93932372,  1.197408  ]),\n",
       " array([-3.93916674,  1.19739222]),\n",
       " array([-3.93901033,  1.19737651]),\n",
       " array([-3.93885448,  1.19736085]),\n",
       " array([-3.93869919,  1.19734525]),\n",
       " array([-3.93854446,  1.19732971]),\n",
       " array([-3.93839029,  1.19731422]),\n",
       " array([-3.93823667,  1.19729879]),\n",
       " array([-3.93808361,  1.19728341]),\n",
       " array([-3.9379311 ,  1.19726809]),\n",
       " array([-3.93777914,  1.19725283]),\n",
       " array([-3.93762773,  1.19723761]),\n",
       " array([-3.93747687,  1.19722246]),\n",
       " array([-3.93732654,  1.19720736]),\n",
       " array([-3.93717676,  1.19719231]),\n",
       " array([-3.93702752,  1.19717732]),\n",
       " array([-3.93687882,  1.19716238]),\n",
       " array([-3.93673066,  1.19714749]),\n",
       " array([-3.93658302,  1.19713266]),\n",
       " array([-3.93643592,  1.19711788]),\n",
       " array([-3.93628935,  1.19710316]),\n",
       " array([-3.93614331,  1.19708849]),\n",
       " array([-3.9359978 ,  1.19707387]),\n",
       " array([-3.93585281,  1.1970593 ]),\n",
       " array([-3.93570834,  1.19704479]),\n",
       " array([-3.9355644 ,  1.19703033]),\n",
       " array([-3.93542097,  1.19701592]),\n",
       " array([-3.93527806,  1.19700156]),\n",
       " array([-3.93513566,  1.19698726]),\n",
       " array([-3.93499378,  1.19697301]),\n",
       " array([-3.93485241,  1.1969588 ]),\n",
       " array([-3.93471155,  1.19694465]),\n",
       " array([-3.9345712 ,  1.19693055]),\n",
       " array([-3.93443135,  1.1969165 ]),\n",
       " array([-3.93429201,  1.19690251]),\n",
       " array([-3.93415317,  1.19688856]),\n",
       " array([-3.93401483,  1.19687466]),\n",
       " array([-3.93387699,  1.19686081]),\n",
       " array([-3.93373965,  1.19684701]),\n",
       " array([-3.9336028 ,  1.19683327]),\n",
       " array([-3.93346644,  1.19681957]),\n",
       " array([-3.93333058,  1.19680592]),\n",
       " array([-3.93319521,  1.19679232]),\n",
       " array([-3.93306032,  1.19677877]),\n",
       " array([-3.93292592,  1.19676527]),\n",
       " array([-3.93279201,  1.19675181]),\n",
       " array([-3.93265857,  1.19673841]),\n",
       " array([-3.93252562,  1.19672505]),\n",
       " array([-3.93239315,  1.19671174]),\n",
       " array([-3.93226116,  1.19669848]),\n",
       " array([-3.93212964,  1.19668527]),\n",
       " array([-3.93199859,  1.19667211]),\n",
       " array([-3.93186802,  1.19665899]),\n",
       " array([-3.93173792,  1.19664592]),\n",
       " array([-3.93160829,  1.1966329 ]),\n",
       " array([-3.93147912,  1.19661992]),\n",
       " array([-3.93135042,  1.19660699]),\n",
       " array([-3.93122219,  1.19659411]),\n",
       " array([-3.93109442,  1.19658127]),\n",
       " array([-3.9309671 ,  1.19656848]),\n",
       " array([-3.93084025,  1.19655574]),\n",
       " array([-3.93071386,  1.19654304]),\n",
       " array([-3.93058792,  1.19653039]),\n",
       " array([-3.93046243,  1.19651778]),\n",
       " array([-3.9303374 ,  1.19650522]),\n",
       " array([-3.93021281,  1.19649271]),\n",
       " array([-3.93008868,  1.19648023]),\n",
       " array([-3.92996499,  1.19646781]),\n",
       " array([-3.92984175,  1.19645543]),\n",
       " array([-3.92971896,  1.19644309]),\n",
       " array([-3.9295966,  1.1964308]),\n",
       " array([-3.92947469,  1.19641855]),\n",
       " array([-3.92935322,  1.19640635]),\n",
       " array([-3.92923218,  1.19639419]),\n",
       " array([-3.92911159,  1.19638208]),\n",
       " array([-3.92899142,  1.19637   ]),\n",
       " array([-3.92887169,  1.19635798]),\n",
       " array([-3.92875239,  1.19634599]),\n",
       " array([-3.92863352,  1.19633405]),\n",
       " array([-3.92851508,  1.19632215]),\n",
       " array([-3.92839707,  1.19631029]),\n",
       " array([-3.92827948,  1.19629848]),\n",
       " array([-3.92816232,  1.19628671]),\n",
       " array([-3.92804558,  1.19627498]),\n",
       " array([-3.92792926,  1.1962633 ]),\n",
       " array([-3.92781336,  1.19625165]),\n",
       " array([-3.92769787,  1.19624005]),\n",
       " array([-3.92758281,  1.19622849]),\n",
       " array([-3.92746815,  1.19621697]),\n",
       " array([-3.92735392,  1.1962055 ]),\n",
       " array([-3.92724009,  1.19619406]),\n",
       " array([-3.92712667,  1.19618267]),\n",
       " array([-3.92701367,  1.19617132]),\n",
       " array([-3.92690107,  1.19616   ]),\n",
       " array([-3.92678887,  1.19614873]),\n",
       " array([-3.92667708,  1.1961375 ]),\n",
       " array([-3.92656569,  1.19612631]),\n",
       " array([-3.92645471,  1.19611516]),\n",
       " array([-3.92634412,  1.19610405]),\n",
       " array([-3.92623394,  1.19609298]),\n",
       " array([-3.92612415,  1.19608195]),\n",
       " array([-3.92601476,  1.19607097]),\n",
       " array([-3.92590576,  1.19606001]),\n",
       " array([-3.92579715,  1.1960491 ]),\n",
       " array([-3.92568894,  1.19603823]),\n",
       " array([-3.92558111,  1.1960274 ]),\n",
       " array([-3.92547368,  1.19601661]),\n",
       " array([-3.92536663,  1.19600585]),\n",
       " array([-3.92525997,  1.19599514]),\n",
       " array([-3.92515369,  1.19598446]),\n",
       " array([-3.92504779,  1.19597382]),\n",
       " array([-3.92494228,  1.19596322]),\n",
       " array([-3.92483715,  1.19595266]),\n",
       " array([-3.92473239,  1.19594214]),\n",
       " array([-3.92462802,  1.19593165]),\n",
       " array([-3.92452402,  1.1959212 ]),\n",
       " array([-3.92442039,  1.19591079]),\n",
       " array([-3.92431714,  1.19590042]),\n",
       " array([-3.92421427,  1.19589009]),\n",
       " array([-3.92411176,  1.19587979]),\n",
       " array([-3.92400962,  1.19586953]),\n",
       " array([-3.92390785,  1.1958593 ]),\n",
       " array([-3.92380645,  1.19584912]),\n",
       " array([-3.92370541,  1.19583897]),\n",
       " array([-3.92360474,  1.19582885]),\n",
       " array([-3.92350442,  1.19581878]),\n",
       " array([-3.92340448,  1.19580873]),\n",
       " array([-3.92330489,  1.19579873]),\n",
       " array([-3.92320566,  1.19578876]),\n",
       " array([-3.92310679,  1.19577883]),\n",
       " array([-3.92300827,  1.19576893]),\n",
       " array([-3.92291011,  1.19575907]),\n",
       " array([-3.92281231,  1.19574924]),\n",
       " array([-3.92271485,  1.19573945]),\n",
       " ...]"
      ]
     },
     "execution_count": 98,
     "metadata": {},
     "output_type": "execute_result"
    }
   ],
   "source": [
    "theta_history"
   ]
  },
  {
   "cell_type": "code",
   "execution_count": 99,
   "metadata": {
    "scrolled": true
   },
   "outputs": [
    {
     "data": {
      "text/plain": [
       "array([-3.90020705,  1.1934783 ])"
      ]
     },
     "execution_count": 99,
     "metadata": {},
     "output_type": "execute_result"
    }
   ],
   "source": [
    "theta"
   ]
  },
  {
   "cell_type": "code",
   "execution_count": 100,
   "metadata": {},
   "outputs": [
    {
     "data": {
      "text/plain": [
       "[4.476973279331659,\n",
       " 4.476973265632468,\n",
       " 4.4769732520318755,\n",
       " 4.476973238529171,\n",
       " 4.476973225123651,\n",
       " 4.476973211814617,\n",
       " 4.476973198601371,\n",
       " 4.476973185483227,\n",
       " 4.4769731724595,\n",
       " 4.476973159529509]"
      ]
     },
     "execution_count": 100,
     "metadata": {},
     "output_type": "execute_result"
    }
   ],
   "source": [
    "cost_function_history[-10:]"
   ]
  },
  {
   "cell_type": "code",
   "execution_count": 101,
   "metadata": {},
   "outputs": [
    {
     "name": "stdout",
     "output_type": "stream",
     "text": [
      "Theta found by gradient descent: -3.9002, 1.1935\n",
      "Final cost values:  4.477\n"
     ]
    }
   ],
   "source": [
    "print(\"Theta found by gradient descent: {:.4f}, {:.4f}\".format(theta[0], theta[1]))\n",
    "print(\"Final cost values:  {:0.3f}\".format(cost_function_history[-1]))"
   ]
  },
  {
   "cell_type": "code",
   "execution_count": 102,
   "metadata": {
    "scrolled": false
   },
   "outputs": [
    {
     "data": {
      "image/png": "[encoded data removed]",
      "text/plain": [
       "<Figure size 864x432 with 1 Axes>"
      ]
     },
     "metadata": {
      "needs_background": "light"
     },
     "output_type": "display_data"
    }
   ],
   "source": [
    "plt.figure(figsize=(12, 6))\n",
    "plt.scatter(chain_resturant[\"Population\"], chain_resturant[\"Profit\"], marker= \"o\", c= \"teal\")\n",
    "plt.plot(X[:,1], np.dot(X, theta), linewidth=1.0, c= \"crimson\")\n",
    "plt.xlabel(\"Population of City in 10,000s\")\n",
    "plt.ylabel(\"Profit in $10,000s\")\n",
    "plt.legend([\"Training data\", \"Linear Regression\"])\n",
    "plt.show()"
   ]
  },
  {
   "cell_type": "code",
   "execution_count": 103,
   "metadata": {
    "scrolled": false
   },
   "outputs": [
    {
     "data": {
      "image/png": "[encoded data removed]",
      "text/plain": [
       "<Figure size 864x576 with 1 Axes>"
      ]
     },
     "metadata": {
      "needs_background": "light"
     },
     "output_type": "display_data"
    }
   ],
   "source": [
    "fig,ax = plt.subplots(figsize=(12,8))\n",
    "ax.set_ylabel(\"Cost Function Values\")\n",
    "ax.set_xlabel(\"Iterations\")\n",
    "ax.plot(range(iteration), cost_function_history, \"teal\")\n",
    "plt.show()"
   ]
  },
  {
   "cell_type": "markdown",
   "metadata": {},
   "source": [
    "First 200 iteration"
   ]
  },
  {
   "cell_type": "code",
   "execution_count": 104,
   "metadata": {},
   "outputs": [
    {
     "data": {
      "image/png": "[encoded data removed]",
      "text/plain": [
       "<Figure size 864x576 with 1 Axes>"
      ]
     },
     "metadata": {
      "needs_background": "light"
     },
     "output_type": "display_data"
    }
   ],
   "source": [
    "fig,ax = plt.subplots(figsize=(12,8))\n",
    "ax.set_ylabel(\"Cost Function Values\")\n",
    "ax.set_xlabel(\"Iterations\")\n",
    "ax.plot(range(200), cost_function_history[:200], \"teal\")\n",
    "plt.show()"
   ]
  },
  {
   "cell_type": "code",
   "execution_count": 105,
   "metadata": {},
   "outputs": [
    {
     "data": {
      "image/png": "[encoded data removed]",
      "text/plain": [
       "<Figure size 864x576 with 1 Axes>"
      ]
     },
     "metadata": {
      "needs_background": "light"
     },
     "output_type": "display_data"
    }
   ],
   "source": [
    "fig,ax = plt.subplots(figsize=(12,8))\n",
    "ax.set_ylabel(\"Cost Function Values\")\n",
    "ax.set_xlabel(\"Iterations\")\n",
    "ax.plot(range(10), cost_function_history[:10], \"teal\")\n",
    "plt.show()"
   ]
  },
  {
   "cell_type": "markdown",
   "metadata": {},
   "source": [
    "## 3 Linear regression with multiple variables\n",
    "\n",
    "In this part, you will implement linear regression with multiple variables to predict the prices of houses. Suppose you are selling your house and you want to know what a good market price would be. One way to do this is to first collect information on recent houses sold and make a model of housing prices.\n",
    "\n",
    "The file `Multi_linear.txt` contains a training set of housing prices in Portland, Oregon. The first column is the size of the house (in square feet), the second column is the number of bedrooms, and the third column is the price of the house. \n",
    "### 3.1 Feature Normalization\n",
    "\n",
    "We start by loading and displaying some values from this dataset. By looking at the values, note that house sizes are about 1000 times the number of bedrooms. When features differ by orders of magnitude, first performing feature scaling can make gradient descent converge much more quickly."
   ]
  },
  {
   "cell_type": "code",
   "execution_count": 106,
   "metadata": {},
   "outputs": [
    {
     "name": "stdout",
     "output_type": "stream",
     "text": [
      "Size of samples: 47\n",
      "Shape of X: (47, 2)\n",
      "Shape of y: (47,)\n"
     ]
    }
   ],
   "source": [
    "houses = pd.read_csv(\"Multi_linear.txt\", names=[\"Size of House(ft2)\", \"Number of Bedrooms\", \"Price\"])\n",
    "# type casting from pandas series to numpy array\n",
    "X = np.array(houses.iloc[:,:2])\n",
    "y = np.array(houses.iloc[:,2])\n",
    "# size of dataset\n",
    "number_of_samples = y.size\n",
    "print(\"Size of samples: {}\".format(number_of_samples))\n",
    "print(\"Shape of X: {}\".format(X.shape))\n",
    "print(\"Shape of y: {}\".format(y.shape))"
   ]
  },
  {
   "cell_type": "code",
   "execution_count": 107,
   "metadata": {},
   "outputs": [
    {
     "data": {
      "text/plain": [
       "array([[2104,    3],\n",
       "       [1600,    3],\n",
       "       [2400,    3],\n",
       "       [1416,    2],\n",
       "       [3000,    4],\n",
       "       [1985,    4],\n",
       "       [1534,    3],\n",
       "       [1427,    3],\n",
       "       [1380,    3],\n",
       "       [1494,    3],\n",
       "       [1940,    4],\n",
       "       [2000,    3],\n",
       "       [1890,    3],\n",
       "       [4478,    5],\n",
       "       [1268,    3],\n",
       "       [2300,    4],\n",
       "       [1320,    2],\n",
       "       [1236,    3],\n",
       "       [2609,    4],\n",
       "       [3031,    4],\n",
       "       [1767,    3],\n",
       "       [1888,    2],\n",
       "       [1604,    3],\n",
       "       [1962,    4],\n",
       "       [3890,    3],\n",
       "       [1100,    3],\n",
       "       [1458,    3],\n",
       "       [2526,    3],\n",
       "       [2200,    3],\n",
       "       [2637,    3],\n",
       "       [1839,    2],\n",
       "       [1000,    1],\n",
       "       [2040,    4],\n",
       "       [3137,    3],\n",
       "       [1811,    4],\n",
       "       [1437,    3],\n",
       "       [1239,    3],\n",
       "       [2132,    4],\n",
       "       [4215,    4],\n",
       "       [2162,    4],\n",
       "       [1664,    2],\n",
       "       [2238,    3],\n",
       "       [2567,    4],\n",
       "       [1200,    3],\n",
       "       [ 852,    2],\n",
       "       [1852,    4],\n",
       "       [1203,    3]])"
      ]
     },
     "execution_count": 107,
     "metadata": {},
     "output_type": "execute_result"
    }
   ],
   "source": [
    "X"
   ]
  },
  {
   "cell_type": "markdown",
   "metadata": {},
   "source": [
    "Your task here is to complete the code in `feature_normalization` function:\n",
    "- Subtract the mean value of each feature from the dataset.\n",
    "- After subtracting the mean, additionally scale (divide) the feature values by their respective “standard deviations.”\n",
    "\n",
    "The standard deviation is a way of measuring how much variation there is in the range of values of a particular feature (most data points will lie within ±2 standard deviations of the mean); this is an alternative to taking the range of values (max-min). In `numpy`, you can use the `std` function to compute the standard deviation. \n",
    "\n",
    "For example, the quantity `X[:, 0]` contains all the values of $x_1$ (house sizes) in the training set, so `np.std(X[:, 0])` computes the standard deviation of the house sizes.\n",
    "At the time that the function `feature_normalization` is called, the extra column of 1’s corresponding to $x_0 = 1$ has not yet been added to $X$. \n",
    "\n",
    "You will do this for all the features and your code should work with datasets of all sizes (any number of features / examples). Note that each column of the matrix $X$ corresponds to one feature."
   ]
  },
  {
   "cell_type": "code",
   "execution_count": 108,
   "metadata": {},
   "outputs": [],
   "source": [
    "def feature_normalization(X):\n",
    "    \"\"\"\n",
    "    Normalizes the features in X. returns a normalized version of X where\n",
    "    the mean value of each feature is 0 and the standard deviation\n",
    "    is 1. This is often a good preprocessing step to do when working with\n",
    "    learning algorithms.\n",
    "    \n",
    "    Parameters\n",
    "    ----------\n",
    "    X : array_like\n",
    "        The dataset of shape (m x n).\n",
    "    \n",
    "    Returns\n",
    "    -------\n",
    "    X_normalized : array_like\n",
    "        The normalized dataset of shape (m x n).\n",
    "    mean: array_like\n",
    "        Mean of every column\n",
    "    standard_deviation : array_like\n",
    "        Standard Deviation of every column\n",
    "    \"\"\"\n",
    "    standard_deviation = np.std(X, axis= 0)\n",
    "    mean = np.mean(X, axis= 0)\n",
    "    X_normalized = (X - mean)/ standard_deviation\n",
    "    \n",
    "    return X_normalized, mean, standard_deviation"
   ]
  },
  {
   "cell_type": "code",
   "execution_count": 109,
   "metadata": {
    "scrolled": true
   },
   "outputs": [],
   "source": [
    "normalized_X, mean_X, standard_deviation_X = feature_normalization(X)"
   ]
  },
  {
   "cell_type": "code",
   "execution_count": 110,
   "metadata": {},
   "outputs": [
    {
     "data": {
      "text/plain": [
       "array([[ 1.31415422e-01, -2.26093368e-01],\n",
       "       [-5.09640698e-01, -2.26093368e-01],\n",
       "       [ 5.07908699e-01, -2.26093368e-01],\n",
       "       [-7.43677059e-01, -1.55439190e+00],\n",
       "       [ 1.27107075e+00,  1.10220517e+00],\n",
       "       [-1.99450507e-02,  1.10220517e+00],\n",
       "       [-5.93588523e-01, -2.26093368e-01],\n",
       "       [-7.29685755e-01, -2.26093368e-01],\n",
       "       [-7.89466782e-01, -2.26093368e-01],\n",
       "       [-6.44465993e-01, -2.26093368e-01],\n",
       "       [-7.71822042e-02,  1.10220517e+00],\n",
       "       [-8.65999486e-04, -2.26093368e-01],\n",
       "       [-1.40779041e-01, -2.26093368e-01],\n",
       "       [ 3.15099326e+00,  2.43050370e+00],\n",
       "       [-9.31923697e-01, -2.26093368e-01],\n",
       "       [ 3.80715024e-01,  1.10220517e+00],\n",
       "       [-8.65782986e-01, -1.55439190e+00],\n",
       "       [-9.72625673e-01, -2.26093368e-01],\n",
       "       [ 7.73743478e-01,  1.10220517e+00],\n",
       "       [ 1.31050078e+00,  1.10220517e+00],\n",
       "       [-2.97227261e-01, -2.26093368e-01],\n",
       "       [-1.43322915e-01, -1.55439190e+00],\n",
       "       [-5.04552951e-01, -2.26093368e-01],\n",
       "       [-4.91995958e-02,  1.10220517e+00],\n",
       "       [ 2.40309445e+00, -2.26093368e-01],\n",
       "       [-1.14560907e+00, -2.26093368e-01],\n",
       "       [-6.90255715e-01, -2.26093368e-01],\n",
       "       [ 6.68172729e-01, -2.26093368e-01],\n",
       "       [ 2.53521350e-01, -2.26093368e-01],\n",
       "       [ 8.09357707e-01, -2.26093368e-01],\n",
       "       [-2.05647815e-01, -1.55439190e+00],\n",
       "       [-1.27280274e+00, -2.88269044e+00],\n",
       "       [ 5.00114703e-02,  1.10220517e+00],\n",
       "       [ 1.44532608e+00, -2.26093368e-01],\n",
       "       [-2.41262044e-01,  1.10220517e+00],\n",
       "       [-7.16966387e-01, -2.26093368e-01],\n",
       "       [-9.68809863e-01, -2.26093368e-01],\n",
       "       [ 1.67029651e-01,  1.10220517e+00],\n",
       "       [ 2.81647389e+00,  1.10220517e+00],\n",
       "       [ 2.05187753e-01,  1.10220517e+00],\n",
       "       [-4.28236746e-01, -1.55439190e+00],\n",
       "       [ 3.01854946e-01, -2.26093368e-01],\n",
       "       [ 7.20322135e-01,  1.10220517e+00],\n",
       "       [-1.01841540e+00, -2.26093368e-01],\n",
       "       [-1.46104938e+00, -1.55439190e+00],\n",
       "       [-1.89112638e-01,  1.10220517e+00],\n",
       "       [-1.01459959e+00, -2.26093368e-01]])"
      ]
     },
     "execution_count": 110,
     "metadata": {},
     "output_type": "execute_result"
    }
   ],
   "source": [
    "normalized_X"
   ]
  },
  {
   "cell_type": "code",
   "execution_count": 111,
   "metadata": {},
   "outputs": [
    {
     "name": "stdout",
     "output_type": "stream",
     "text": [
      "Below information is for two colums:\n",
      "first: [Size of House(ft2), and second: Number of Bedrooms]\n",
      "Mean: [2000.68085106    3.17021277]\n",
      "Standard Deviation: [7.86202619e+02 7.52842809e-01]\n"
     ]
    }
   ],
   "source": [
    "print(\"Below information is for two colums:\\nfirst: [Size of House(ft2), and second: Number of Bedrooms]\")\n",
    "print(\"Mean: {}\".format(mean_X))\n",
    "print(\"Standard Deviation: {:}\".format(standard_deviation_X))"
   ]
  },
  {
   "cell_type": "markdown",
   "metadata": {
    "scrolled": true
   },
   "source": [
    "### 3.2 Gradient Descent\n",
    "\n",
    "Previously, you implemented gradient descent on a univariate regression problem. The only difference now is that there is one more feature in the matrix $X$. The hypothesis function and the batch gradient descent update\n",
    "rule remain unchanged. \n",
    "\n",
    "You should complete the code for the functions `computeCostMulti` and `gradientDescentMulti` to implement the cost function and gradient descent for linear regression with multiple variables. If your code in the previous part (single variable) already supports multiple variables, you can use it here too.\n",
    "Make sure your code supports any number of features and is well-vectorized.\n",
    "You can use the `shape` property of `numpy` arrays to find out how many features are present in the dataset.\n",
    "\n",
    "\n",
    "**Implementation Note:** In the multivariate case, the cost function can\n",
    "also be written in the following vectorized form:\n",
    "\n",
    "$$ J(\\theta) = \\frac{1}{2m}(X\\theta - \\vec{y})^T(X\\theta - \\vec{y}) $$\n",
    "\n",
    "where \n",
    "\n",
    "$$ X = \\begin{pmatrix}\n",
    "          - (x^{(1)})^T - \\\\\n",
    "          - (x^{(2)})^T - \\\\\n",
    "          \\vdots \\\\\n",
    "          - (x^{(m)})^T - \\\\ \\\\\n",
    "        \\end{pmatrix} \\qquad \\mathbf{y} = \\begin{bmatrix} y^{(1)} \\\\ y^{(2)} \\\\ \\vdots \\\\ y^{(m)} \\\\\\end{bmatrix}$$\n",
    "\n",
    "the vectorized version is efficient when you are working with numerical computing tools like `numpy`. If you are an expert with matrix operations, you can prove to yourself that the two forms are equivalent.\n"
   ]
  },
  {
   "cell_type": "code",
   "execution_count": 112,
   "metadata": {},
   "outputs": [
    {
     "name": "stdout",
     "output_type": "stream",
     "text": [
      "Shape of X is: (47, 3)\n"
     ]
    }
   ],
   "source": [
    "# The first axis (axis=0) refers to rows (training examples) \n",
    "# and second axis (axis=1) refers to columns (features).\n",
    "# add ones to normalized_X to make features same shape as theta \n",
    "X = np.concatenate([np.ones(len(y)).reshape(len(y), 1), normalized_X], axis= 1)\n",
    "print(\"Shape of X is: {}\".format(X.shape))"
   ]
  },
  {
   "cell_type": "code",
   "execution_count": 113,
   "metadata": {},
   "outputs": [
    {
     "data": {
      "text/plain": [
       "array([[ 1.00000000e+00,  1.31415422e-01, -2.26093368e-01],\n",
       "       [ 1.00000000e+00, -5.09640698e-01, -2.26093368e-01],\n",
       "       [ 1.00000000e+00,  5.07908699e-01, -2.26093368e-01],\n",
       "       [ 1.00000000e+00, -7.43677059e-01, -1.55439190e+00],\n",
       "       [ 1.00000000e+00,  1.27107075e+00,  1.10220517e+00],\n",
       "       [ 1.00000000e+00, -1.99450507e-02,  1.10220517e+00],\n",
       "       [ 1.00000000e+00, -5.93588523e-01, -2.26093368e-01],\n",
       "       [ 1.00000000e+00, -7.29685755e-01, -2.26093368e-01],\n",
       "       [ 1.00000000e+00, -7.89466782e-01, -2.26093368e-01],\n",
       "       [ 1.00000000e+00, -6.44465993e-01, -2.26093368e-01],\n",
       "       [ 1.00000000e+00, -7.71822042e-02,  1.10220517e+00],\n",
       "       [ 1.00000000e+00, -8.65999486e-04, -2.26093368e-01],\n",
       "       [ 1.00000000e+00, -1.40779041e-01, -2.26093368e-01],\n",
       "       [ 1.00000000e+00,  3.15099326e+00,  2.43050370e+00],\n",
       "       [ 1.00000000e+00, -9.31923697e-01, -2.26093368e-01],\n",
       "       [ 1.00000000e+00,  3.80715024e-01,  1.10220517e+00],\n",
       "       [ 1.00000000e+00, -8.65782986e-01, -1.55439190e+00],\n",
       "       [ 1.00000000e+00, -9.72625673e-01, -2.26093368e-01],\n",
       "       [ 1.00000000e+00,  7.73743478e-01,  1.10220517e+00],\n",
       "       [ 1.00000000e+00,  1.31050078e+00,  1.10220517e+00],\n",
       "       [ 1.00000000e+00, -2.97227261e-01, -2.26093368e-01],\n",
       "       [ 1.00000000e+00, -1.43322915e-01, -1.55439190e+00],\n",
       "       [ 1.00000000e+00, -5.04552951e-01, -2.26093368e-01],\n",
       "       [ 1.00000000e+00, -4.91995958e-02,  1.10220517e+00],\n",
       "       [ 1.00000000e+00,  2.40309445e+00, -2.26093368e-01],\n",
       "       [ 1.00000000e+00, -1.14560907e+00, -2.26093368e-01],\n",
       "       [ 1.00000000e+00, -6.90255715e-01, -2.26093368e-01],\n",
       "       [ 1.00000000e+00,  6.68172729e-01, -2.26093368e-01],\n",
       "       [ 1.00000000e+00,  2.53521350e-01, -2.26093368e-01],\n",
       "       [ 1.00000000e+00,  8.09357707e-01, -2.26093368e-01],\n",
       "       [ 1.00000000e+00, -2.05647815e-01, -1.55439190e+00],\n",
       "       [ 1.00000000e+00, -1.27280274e+00, -2.88269044e+00],\n",
       "       [ 1.00000000e+00,  5.00114703e-02,  1.10220517e+00],\n",
       "       [ 1.00000000e+00,  1.44532608e+00, -2.26093368e-01],\n",
       "       [ 1.00000000e+00, -2.41262044e-01,  1.10220517e+00],\n",
       "       [ 1.00000000e+00, -7.16966387e-01, -2.26093368e-01],\n",
       "       [ 1.00000000e+00, -9.68809863e-01, -2.26093368e-01],\n",
       "       [ 1.00000000e+00,  1.67029651e-01,  1.10220517e+00],\n",
       "       [ 1.00000000e+00,  2.81647389e+00,  1.10220517e+00],\n",
       "       [ 1.00000000e+00,  2.05187753e-01,  1.10220517e+00],\n",
       "       [ 1.00000000e+00, -4.28236746e-01, -1.55439190e+00],\n",
       "       [ 1.00000000e+00,  3.01854946e-01, -2.26093368e-01],\n",
       "       [ 1.00000000e+00,  7.20322135e-01,  1.10220517e+00],\n",
       "       [ 1.00000000e+00, -1.01841540e+00, -2.26093368e-01],\n",
       "       [ 1.00000000e+00, -1.46104938e+00, -1.55439190e+00],\n",
       "       [ 1.00000000e+00, -1.89112638e-01,  1.10220517e+00],\n",
       "       [ 1.00000000e+00, -1.01459959e+00, -2.26093368e-01]])"
      ]
     },
     "execution_count": 113,
     "metadata": {},
     "output_type": "execute_result"
    }
   ],
   "source": [
    "X"
   ]
  },
  {
   "cell_type": "code",
   "execution_count": null,
   "metadata": {},
   "outputs": [],
   "source": []
  },
  {
   "cell_type": "code",
   "execution_count": 114,
   "metadata": {},
   "outputs": [],
   "source": [
    "def cost_function_multi(X, y, theta):\n",
    "    \"\"\"\n",
    "    Compute cost for linear regression with multiple variables.\n",
    "    Computes the cost of using theta as the parameter for linear regression to fit the data points in X and y.\n",
    "    \n",
    "    Parameters\n",
    "    ----------\n",
    "    X : array_like\n",
    "        The dataset of shape (m x n+1).\n",
    "    \n",
    "    y : array_like\n",
    "        A vector of shape (m, ) for the values at a given data point.\n",
    "    \n",
    "    theta : array_like\n",
    "        The linear regression parameters. A vector of shape (n+1, )\n",
    "    \n",
    "    Returns\n",
    "    -------\n",
    "    J : float\n",
    "        The value of the cost function. \n",
    "    \"\"\"\n",
    "    # size of dataset\n",
    "    number_of_samples = y.size\n",
    "    #initialize cost function with zero\n",
    "    J = 0\n",
    "    # hypothesis function\n",
    "    #h = np.dot(X, theta)\n",
    "    # computation of cost function \n",
    "    J = (1/(2 * number_of_samples)) * np.sum(np.square(np.dot(X, theta) - y))\n",
    "    return J"
   ]
  },
  {
   "cell_type": "code",
   "execution_count": 115,
   "metadata": {},
   "outputs": [
    {
     "name": "stdout",
     "output_type": "stream",
     "text": [
      "Cost computed: 65591548106.46 \n",
      "with theta [0.0, 0.0, 0.0]\n",
      "Cost computed: 55581837138.30 \n",
      "with theta [30000.0, 2102.0, 511.0]\n"
     ]
    }
   ],
   "source": [
    "J = cost_function_multi(X, y, theta= np.array([0.0, 0.0, 0.0]))\n",
    "print(\"Cost computed: {:.2f} \\nwith theta [0.0, 0.0, 0.0]\".format(J))\n",
    "J = cost_function_multi(X, y, theta= np.array([30000.0, 2102.0, 511.0]))\n",
    "print(\"Cost computed: {:.2f} \\nwith theta [30000.0, 2102.0, 511.0]\".format(J))"
   ]
  },
  {
   "cell_type": "code",
   "execution_count": 116,
   "metadata": {},
   "outputs": [],
   "source": [
    "def gradient_descent_multi(X, y, theta, learning_rate, iteration):\n",
    "    \"\"\"\n",
    "    Performs gradient descent to learn theta.\n",
    "    Updates theta by taking num_iters gradient steps with learning rate alpha.\n",
    "        \n",
    "    Parameters\n",
    "    ----------\n",
    "    X : array_like\n",
    "        The dataset of shape (m x n+1).\n",
    "    \n",
    "    y : array_like\n",
    "        A vector of shape (m, ) for the values at a given data point.\n",
    "    \n",
    "    theta : array_like\n",
    "        The linear regression parameters. A vector of shape (n+1, )\n",
    "    \n",
    "    learning_rate : float\n",
    "        The learning rate for gradient descent. \n",
    "    \n",
    "    iteration : int\n",
    "        The number of iterations to run gradient descent. \n",
    "    \n",
    "    Returns\n",
    "    -------\n",
    "    theta : array_like\n",
    "        The learned linear regression parameters. A vector of shape (n+1, ).\n",
    "    \n",
    "    J_history : list\n",
    "        A python list for the values of the cost function after each iteration.\n",
    "        \n",
    "    theta_history : list\n",
    "        A python list for the values of theta per each iteration and store them in a list\n",
    "    \n",
    "    \"\"\"\n",
    "    # number of elements or trainting examples\n",
    "    number_of_samples = len(y)\n",
    "    # make a copy of theta to avoid changing original array\n",
    "    theta = theta.copy()\n",
    "    J_history = []\n",
    "    theta_history = []\n",
    "    # loop through iterations\n",
    "    for item in range(iteration):\n",
    "        theta = theta - (learning_rate/number_of_samples) * (np.dot(X, theta) - y).dot(X)\n",
    "        theta_history.append(theta)\n",
    "        J_history.append(cost_function_multi(X, y, theta))\n",
    "    return theta, J_history, theta_history"
   ]
  },
  {
   "cell_type": "code",
   "execution_count": null,
   "metadata": {},
   "outputs": [],
   "source": []
  },
  {
   "cell_type": "code",
   "execution_count": 117,
   "metadata": {},
   "outputs": [],
   "source": [
    "# initial theta for starting cost_function and gradient_descent that is theta= [0,0,0]\n",
    "theta = np.zeros(3)\n",
    "# set learning_rate(alpha in original formula) and iteration(number of running algorithm)\n",
    "learning_rate = .02\n",
    "iteration = 500\n",
    "# running algorithm and store them variable and lists\n",
    "theta, cost_function_history, theta_history = gradient_descent_multi(X, y, theta, learning_rate, iteration)"
   ]
  },
  {
   "cell_type": "code",
   "execution_count": 118,
   "metadata": {},
   "outputs": [
    {
     "data": {
      "text/plain": [
       "array([340398.69449058, 108749.51089445,  -5880.08275303])"
      ]
     },
     "execution_count": 118,
     "metadata": {},
     "output_type": "execute_result"
    }
   ],
   "source": [
    "theta"
   ]
  },
  {
   "cell_type": "code",
   "execution_count": 119,
   "metadata": {},
   "outputs": [
    {
     "data": {
      "image/png": "[encoded data removed]",
      "text/plain": [
       "<Figure size 864x576 with 1 Axes>"
      ]
     },
     "metadata": {
      "needs_background": "light"
     },
     "output_type": "display_data"
    }
   ],
   "source": [
    "fig,ax = plt.subplots(figsize=(12,8))\n",
    "ax.set_ylabel(\"Cost Function Values\")\n",
    "ax.set_xlabel(\"Iterations\")\n",
    "ax.plot(range(iteration), cost_function_history, \"olive\")\n",
    "plt.show()"
   ]
  },
  {
   "cell_type": "code",
   "execution_count": 120,
   "metadata": {},
   "outputs": [
    {
     "name": "stdout",
     "output_type": "stream",
     "text": [
      "Theta found by gradient descent: 340398.6945, 108749.5109, -5880.0828\n",
      "Final cost value:  2043494705.173\n"
     ]
    }
   ],
   "source": [
    "print(\"Theta found by gradient descent: {:.4f}, {:.4f}, {:.4f}\".format(theta[0], theta[1], theta[2]))\n",
    "print(\"Final cost value:  {:0.3f}\".format(cost_function_history[-1]))"
   ]
  },
  {
   "cell_type": "markdown",
   "metadata": {},
   "source": [
    "Lets try multiple alpha"
   ]
  },
  {
   "cell_type": "code",
   "execution_count": 121,
   "metadata": {},
   "outputs": [],
   "source": [
    "# initial theta with [0,0,0]\n",
    "theta = np.zeros(3)\n",
    "# plot multiple learning rate to understand iteration and learning rate role on gradient descent\n",
    "theta_1, cost_function_history_1, theta_history_1 = gradient_descent_multi(X, y, theta, learning_rate= 1, iteration= 500)\n",
    "theta_2, cost_function_history_2, theta_history_2 = gradient_descent_multi(X, y, theta, learning_rate= .1, iteration= 500)\n",
    "theta_3, cost_function_history_3, theta_history_3 = gradient_descent_multi(X, y, theta, learning_rate= .01, iteration= 500)\n",
    "theta_4, cost_function_history_4, theta_history_4 = gradient_descent_multi(X, y, theta, learning_rate= .005, iteration= 500)\n",
    "theta_5, cost_function_history_5, theta_history_5 = gradient_descent_multi(X, y, theta, learning_rate= .001, iteration= 500)"
   ]
  },
  {
   "cell_type": "code",
   "execution_count": null,
   "metadata": {},
   "outputs": [],
   "source": []
  },
  {
   "cell_type": "code",
   "execution_count": 122,
   "metadata": {
    "scrolled": false
   },
   "outputs": [
    {
     "data": {
      "image/png": "[encoded data removed]",
      "text/plain": [
       "<Figure size 864x576 with 1 Axes>"
      ]
     },
     "metadata": {
      "needs_background": "light"
     },
     "output_type": "display_data"
    }
   ],
   "source": [
    "fig,ax = plt.subplots(figsize=(12,8))\n",
    "ax.set_ylabel(\"Cost Function Values\")\n",
    "ax.set_xlabel(\"Iterations\")\n",
    "plt.title(\"Different Learning Rate\")\n",
    "ax.plot(range(iteration), cost_function_history_1, color=\"olive\", linewidth= 2)\n",
    "ax.plot(range(iteration), cost_function_history_2, color=\"gold\", linewidth= 2)\n",
    "ax.plot(range(iteration), cost_function_history_3, color=\"violet\", linewidth= 2)\n",
    "ax.plot(range(iteration), cost_function_history_4, color=\"lightblue\", linewidth= 2)\n",
    "ax.plot(range(iteration), cost_function_history_5, color=\"coral\", linewidth= 2)\n",
    "plt.legend([\"Learning Rate= 1\", \"Learning Rate= .1\", \"Learning Rate= .01\", \"Learning Rate= .005\", \"Learning Rate= .001\"])\n",
    "plt.show()"
   ]
  },
  {
   "cell_type": "code",
   "execution_count": null,
   "metadata": {},
   "outputs": [],
   "source": []
  },
  {
   "cell_type": "markdown",
   "metadata": {},
   "source": [
    "### 3.3 Normal Equations\n",
    "\n",
    "In the lecture videos, you learned that the closed-form solution to linear regression is\n",
    "\n",
    "$$ \\theta = \\left( X^T X\\right)^{-1} X^T\\vec{y}$$\n",
    "\n",
    "Using this formula does not require any feature scaling, and you will get an exact solution in one calculation: there is no “loop until convergence” like in gradient descent. \n",
    "\n",
    "First, we will reload the data to ensure that the variables have not been modified. Remember that while you do not need to scale your features, we still need to add a column of 1’s to the $X$ matrix to have an intercept term ($\\theta_0$). The code in the next cell will add the column of 1’s to X for you."
   ]
  },
  {
   "cell_type": "code",
   "execution_count": 123,
   "metadata": {},
   "outputs": [
    {
     "name": "stdout",
     "output_type": "stream",
     "text": [
      "size of samples: 47\n"
     ]
    }
   ],
   "source": [
    "houses = pd.read_csv(\"Multi_linear.txt\", names=[\"Size of House(ft2)\", \"Number of Bedrooms\", \"Price\"])\n",
    "# type casting from pandas series to numpy array\n",
    "X = np.array(houses.iloc[:,:2])\n",
    "y = np.array(houses.iloc[:,2])\n",
    "# size of dataset\n",
    "number_of_samples = y.size\n",
    "print('size of samples: {}'.format(number_of_samples))"
   ]
  },
  {
   "cell_type": "code",
   "execution_count": 124,
   "metadata": {},
   "outputs": [
    {
     "name": "stdout",
     "output_type": "stream",
     "text": [
      "Shape of X is: (47, 3)\n"
     ]
    }
   ],
   "source": [
    "# The first axis (axis=0) refers to rows (training examples) \n",
    "# and second axis (axis=1) refers to columns (features).\n",
    "# add ones to normalized_X to make features same shape as theta \n",
    "X = np.concatenate([np.ones(len(y)).reshape(len(y), 1), normalized_X], axis= 1)\n",
    "print(f\"Shape of X is: {X.shape}\")"
   ]
  },
  {
   "cell_type": "code",
   "execution_count": 125,
   "metadata": {},
   "outputs": [],
   "source": [
    "def normal_equation(X, y):\n",
    "    \"\"\"\n",
    "    Computes the closed-form solution to linear regression using the normal equations.\n",
    "    \n",
    "    Parameters\n",
    "    ----------\n",
    "    X : array_like\n",
    "        The dataset of shape (m x n+1).\n",
    "    \n",
    "    y : array_like\n",
    "        The value at each data point. A vector of shape (m, ).\n",
    "    \n",
    "    Returns\n",
    "    -------\n",
    "    theta : array_like\n",
    "        Estimated linear regression parameters. A vector of shape (n+1, ).\n",
    "    \"\"\"\n",
    "    # initialize theta with zero values\n",
    "    theta = np.zeros(X.shape[1])\n",
    "    theta = np.dot(np.dot(np.linalg.pinv(np.dot(X.T, X)), X.T), y)\n",
    "    return theta"
   ]
  },
  {
   "cell_type": "code",
   "execution_count": 126,
   "metadata": {},
   "outputs": [],
   "source": [
    "theta = normal_equation(X, y)"
   ]
  },
  {
   "cell_type": "code",
   "execution_count": 127,
   "metadata": {
    "scrolled": true
   },
   "outputs": [
    {
     "name": "stdout",
     "output_type": "stream",
     "text": [
      "Theta computed from the normal equations: [340412.65957447 109447.79646964  -6578.35485416]\n"
     ]
    }
   ],
   "source": [
    "print(\"Theta computed from the normal equations: {:s}\".format(str(theta)))"
   ]
  },
  {
   "cell_type": "code",
   "execution_count": 128,
   "metadata": {},
   "outputs": [
    {
     "data": {
      "text/plain": [
       "293081.4643348961"
      ]
     },
     "execution_count": 128,
     "metadata": {},
     "output_type": "execute_result"
    }
   ],
   "source": [
    "# test one sample\n",
    "X_array = [1, 1650, 3]\n",
    "# normalize second and third element of sample \n",
    "X_array[1:3] = (X_array[1:3] - mean_X) / standard_deviation_X\n",
    "# multiply normalized sample and optimized theta to findout prediction value\n",
    "np.dot(X_array, theta)"
   ]
  },
  {
   "cell_type": "code",
   "execution_count": null,
   "metadata": {},
   "outputs": [],
   "source": []
  },
  {
   "cell_type": "code",
   "execution_count": null,
   "metadata": {},
   "outputs": [],
   "source": []
  }
 ],
 "metadata": {
  "kernelspec": {
   "display_name": "Python 3",
   "language": "python",
   "name": "python3"
  },
  "language_info": {
   "codemirror_mode": {
    "name": "ipython",
    "version": 3
   },
   "file_extension": ".py",
   "mimetype": "text/x-python",
   "name": "python",
   "nbconvert_exporter": "python",
   "pygments_lexer": "ipython3",
   "version": "3.8.5"
  }
 },
 "nbformat": 4,
 "nbformat_minor": 4
}
