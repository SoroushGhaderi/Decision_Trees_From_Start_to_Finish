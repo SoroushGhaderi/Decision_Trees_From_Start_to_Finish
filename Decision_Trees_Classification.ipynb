{
 "cells": [
  {
   "cell_type": "markdown",
   "metadata": {},
   "source": [
    "# Classification With Decision Trees, From Start to Finish"
   ]
  },
  {
   "cell_type": "markdown",
   "metadata": {},
   "source": [
    "Author: ***Soroush Ghaderi***"
   ]
  },
  {
   "cell_type": "markdown",
   "metadata": {},
   "source": [
    "In this lesson we will use **scikit-learn** and **Cost Complexity Pruning** to build **Classification Tree** which uses continues and categorical data from [UCI Machine Learning Repository](https://archive.ics.uci.edu/ml/index.php) to predict whether or not a paitent has [heart disease](https://archive.ics.uci.edu/ml/datasets/heart+disease)."
   ]
  },
  {
   "cell_type": "markdown",
   "metadata": {},
   "source": [
    "**Classification Trees** are an exponentially useful machine learning method when you need to know how the decisions are being made. For example, if you have to justify the predictions to your boss, classification trees are a good method because each step in the decision making process is easy to understand."
   ]
  },
  {
   "cell_type": "markdown",
   "metadata": {},
   "source": [
    "In this notebook we will practice about ...\n",
    "\n",
    "- **[Importing Data]()**\n",
    "\n",
    "\n",
    "- **[Missing Data]()**\n",
    "\n",
    "\n",
    "    - Identifying Missing Data\n",
    "    - Dealing with Missing Data\n",
    "\n",
    "- **[Formatting the Data for Decision Trees]()**\n",
    "\n",
    "\n",
    "    - Splitting data into Dependent and Independent Variables\n",
    "    - One-Hot Encoding\n",
    "    \n",
    "- **[Building a Preliminary Classification Tree]()**\n",
    "\n",
    "\n",
    "- **[Optimizing the tree with Cost Complexity Pruning]()**\n",
    "\n",
    "    - Visulizing Alpha\n",
    "    - Using Cross Validation to find the best value for Alpha\n",
    "    \n",
    "- **[Building, Drawing, Interpreting and Evaluating the Final Classification Tree]()**"
   ]
  },
  {
   "cell_type": "code",
   "execution_count": null,
   "metadata": {},
   "outputs": [],
   "source": []
  }
 ],
 "metadata": {
  "kernelspec": {
   "display_name": "Python 3",
   "language": "python",
   "name": "python3"
  },
  "language_info": {
   "codemirror_mode": {
    "name": "ipython",
    "version": 3
   },
   "file_extension": ".py",
   "mimetype": "text/x-python",
   "name": "python",
   "nbconvert_exporter": "python",
   "pygments_lexer": "ipython3",
   "version": "3.7.7"
  }
 },
 "nbformat": 4,
 "nbformat_minor": 4
}
